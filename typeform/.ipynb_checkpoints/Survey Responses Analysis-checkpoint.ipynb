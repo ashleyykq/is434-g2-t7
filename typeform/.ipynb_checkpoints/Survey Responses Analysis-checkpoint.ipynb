{
 "cells": [
  {
   "cell_type": "markdown",
   "id": "be08c689",
   "metadata": {},
   "source": [
    "### Click [Here](https://9puwqksx3dg.typeform.com/to/TlAgjPuj) For Survey"
   ]
  },
  {
   "cell_type": "code",
   "execution_count": 1,
   "id": "d15e6e76",
   "metadata": {},
   "outputs": [],
   "source": [
    "import pandas as pd\n",
    "import numpy as np\n",
    "import matplotlib.pyplot as plt\n",
    "import re\n",
    "import stylecloud\n",
    "from nltk.tokenize import sent_tokenize, word_tokenize, RegexpTokenizer\n",
    "from nltk.util import ngrams\n",
    "from nltk.corpus import stopwords\n",
    "from nltk.stem import PorterStemmer\n",
    "from wordcloud import WordCloud"
   ]
  },
  {
   "cell_type": "markdown",
   "id": "548fd453",
   "metadata": {},
   "source": [
    "## Read from CSV"
   ]
  },
  {
   "cell_type": "code",
   "execution_count": 2,
   "id": "44463487",
   "metadata": {
    "scrolled": false
   },
   "outputs": [
    {
     "data": {
      "text/html": [
       "<div>\n",
       "<style scoped>\n",
       "    .dataframe tbody tr th:only-of-type {\n",
       "        vertical-align: middle;\n",
       "    }\n",
       "\n",
       "    .dataframe tbody tr th {\n",
       "        vertical-align: top;\n",
       "    }\n",
       "\n",
       "    .dataframe thead th {\n",
       "        text-align: right;\n",
       "    }\n",
       "</style>\n",
       "<table border=\"1\" class=\"dataframe\">\n",
       "  <thead>\n",
       "    <tr style=\"text-align: right;\">\n",
       "      <th></th>\n",
       "      <th>What is your current stage of life / educational pursuit?</th>\n",
       "      <th>Are you from Singapore Management University (SMU)?</th>\n",
       "      <th>Are you from the School of Computing and Information Systems (SCIS)?</th>\n",
       "      <th>Any reasons why you chose SCIS over other IT Courses / Degrees in the other Universities? \\n(E.g. NUS - Computer Science)</th>\n",
       "      <th>Where were you studying at before coming into SMU?</th>\n",
       "      <th>What is/was your course of study in your educational institution?</th>\n",
       "      <th>Which Polytechnic are you from?</th>\n",
       "      <th>What was the diploma / course you are studying/have studied?</th>\n",
       "      <th>Which Junior College are you from?</th>\n",
       "      <th>What was your subject combination in Junior College?</th>\n",
       "      <th>...</th>\n",
       "      <th>Please elaborate on your ranking sequence :).3</th>\n",
       "      <th>Are you aware of or have attended any programmes organized by SMU SCIS?</th>\n",
       "      <th>In this case, what kind of programmes would you want to participate in or hope to see more of?</th>\n",
       "      <th>What is/are the programme(s)?</th>\n",
       "      <th>In general, how would you rate the quality of these programmes?</th>\n",
       "      <th>Please elaborate on the chosen rating</th>\n",
       "      <th>What will you use to find out more about or critique such programmes?</th>\n",
       "      <th>Last but not the least, what is your Gender?</th>\n",
       "      <th>Submitted At</th>\n",
       "      <th>Token</th>\n",
       "    </tr>\n",
       "  </thead>\n",
       "  <tbody>\n",
       "    <tr>\n",
       "      <th>0</th>\n",
       "      <td>University</td>\n",
       "      <td>Yes</td>\n",
       "      <td>Yes</td>\n",
       "      <td>No</td>\n",
       "      <td>Junior College</td>\n",
       "      <td>NaN</td>\n",
       "      <td>NaN</td>\n",
       "      <td>NaN</td>\n",
       "      <td>Victoria Junior College</td>\n",
       "      <td>MEH CSE</td>\n",
       "      <td>...</td>\n",
       "      <td>NaN</td>\n",
       "      <td>Yes</td>\n",
       "      <td>NaN</td>\n",
       "      <td>Mitb</td>\n",
       "      <td>10.0</td>\n",
       "      <td>Good</td>\n",
       "      <td>YouTube</td>\n",
       "      <td>Male</td>\n",
       "      <td>15/3/2022 0:09</td>\n",
       "      <td>xt1po8c91glpr90vqvi1i8slxt1po8c8</td>\n",
       "    </tr>\n",
       "    <tr>\n",
       "      <th>1</th>\n",
       "      <td>University</td>\n",
       "      <td>Yes</td>\n",
       "      <td>Yes</td>\n",
       "      <td>More industry based/practical</td>\n",
       "      <td>Junior College</td>\n",
       "      <td>NaN</td>\n",
       "      <td>NaN</td>\n",
       "      <td>NaN</td>\n",
       "      <td>Pioneer Junior College</td>\n",
       "      <td>PCME</td>\n",
       "      <td>...</td>\n",
       "      <td>NaN</td>\n",
       "      <td>No</td>\n",
       "      <td>NaN</td>\n",
       "      <td>NaN</td>\n",
       "      <td>NaN</td>\n",
       "      <td>NaN</td>\n",
       "      <td>Instagram</td>\n",
       "      <td>Male</td>\n",
       "      <td>14/3/2022 14:24</td>\n",
       "      <td>g0siq2gnksmzcwsag0sidjudrwyw2q01</td>\n",
       "    </tr>\n",
       "    <tr>\n",
       "      <th>2</th>\n",
       "      <td>University</td>\n",
       "      <td>Yes</td>\n",
       "      <td>Yes</td>\n",
       "      <td>want a less-technical degree that has equal ba...</td>\n",
       "      <td>Junior College</td>\n",
       "      <td>NaN</td>\n",
       "      <td>NaN</td>\n",
       "      <td>NaN</td>\n",
       "      <td>Dunman High School</td>\n",
       "      <td>GCME</td>\n",
       "      <td>...</td>\n",
       "      <td>-</td>\n",
       "      <td>Yes</td>\n",
       "      <td>NaN</td>\n",
       "      <td>pre uni exposure workshops by scis</td>\n",
       "      <td>6.0</td>\n",
       "      <td>get to be exposed in a v beginners level</td>\n",
       "      <td>school email</td>\n",
       "      <td>Female</td>\n",
       "      <td>14/3/2022 14:22</td>\n",
       "      <td>elguz828qfo5ob2qrut3delguz8bj3ni</td>\n",
       "    </tr>\n",
       "    <tr>\n",
       "      <th>3</th>\n",
       "      <td>University</td>\n",
       "      <td>Yes</td>\n",
       "      <td>Yes</td>\n",
       "      <td>because its SMU</td>\n",
       "      <td>Polytechnic</td>\n",
       "      <td>NaN</td>\n",
       "      <td>Nanyang Polytechnic</td>\n",
       "      <td>Engineering Informatics</td>\n",
       "      <td>NaN</td>\n",
       "      <td>NaN</td>\n",
       "      <td>...</td>\n",
       "      <td>nil</td>\n",
       "      <td>Yes</td>\n",
       "      <td>NaN</td>\n",
       "      <td>forgot sorry..</td>\n",
       "      <td>6.0</td>\n",
       "      <td>didnt attend many</td>\n",
       "      <td>Word-of-Mouth</td>\n",
       "      <td>Male</td>\n",
       "      <td>14/3/2022 13:36</td>\n",
       "      <td>hiipyebnjb1pfes8o7khj1hiipye4vka</td>\n",
       "    </tr>\n",
       "    <tr>\n",
       "      <th>4</th>\n",
       "      <td>University</td>\n",
       "      <td>Yes</td>\n",
       "      <td>Yes</td>\n",
       "      <td>Improve presentation skills</td>\n",
       "      <td>Junior College</td>\n",
       "      <td>NaN</td>\n",
       "      <td>NaN</td>\n",
       "      <td>NaN</td>\n",
       "      <td>Temasek Junior College</td>\n",
       "      <td>PCME</td>\n",
       "      <td>...</td>\n",
       "      <td>GES only acts as a form of reference</td>\n",
       "      <td>Yes</td>\n",
       "      <td>NaN</td>\n",
       "      <td>Virtual Information Session</td>\n",
       "      <td>8.0</td>\n",
       "      <td>Many opportunities</td>\n",
       "      <td>Word-of-Mouth, Instagram</td>\n",
       "      <td>Female</td>\n",
       "      <td>14/3/2022 13:32</td>\n",
       "      <td>6cmxclrxrv0vqrgnzvt6cmxclrx7bi2l</td>\n",
       "    </tr>\n",
       "  </tbody>\n",
       "</table>\n",
       "<p>5 rows × 29 columns</p>\n",
       "</div>"
      ],
      "text/plain": [
       "  What is your current stage of life / educational pursuit?  \\\n",
       "0                                         University          \n",
       "1                                         University          \n",
       "2                                         University          \n",
       "3                                         University          \n",
       "4                                         University          \n",
       "\n",
       "  Are you from Singapore Management University (SMU)?  \\\n",
       "0                                                Yes    \n",
       "1                                                Yes    \n",
       "2                                                Yes    \n",
       "3                                                Yes    \n",
       "4                                                Yes    \n",
       "\n",
       "  Are you from the School of Computing and Information Systems (SCIS)?  \\\n",
       "0                                                Yes                     \n",
       "1                                                Yes                     \n",
       "2                                                Yes                     \n",
       "3                                                Yes                     \n",
       "4                                                Yes                     \n",
       "\n",
       "  Any reasons why you chose SCIS over other IT Courses / Degrees in the other Universities? \\n(E.g. NUS - Computer Science)  \\\n",
       "0                                                 No                                                                          \n",
       "1                      More industry based/practical                                                                          \n",
       "2  want a less-technical degree that has equal ba...                                                                          \n",
       "3                                    because its SMU                                                                          \n",
       "4                        Improve presentation skills                                                                          \n",
       "\n",
       "  Where were you studying at before coming into SMU?  \\\n",
       "0                                     Junior College   \n",
       "1                                     Junior College   \n",
       "2                                     Junior College   \n",
       "3                                        Polytechnic   \n",
       "4                                     Junior College   \n",
       "\n",
       "   What is/was your course of study in your educational institution?  \\\n",
       "0                                                NaN                   \n",
       "1                                                NaN                   \n",
       "2                                                NaN                   \n",
       "3                                                NaN                   \n",
       "4                                                NaN                   \n",
       "\n",
       "  Which Polytechnic are you from?  \\\n",
       "0                             NaN   \n",
       "1                             NaN   \n",
       "2                             NaN   \n",
       "3             Nanyang Polytechnic   \n",
       "4                             NaN   \n",
       "\n",
       "  What was the diploma / course you are studying/have studied?  \\\n",
       "0                                                NaN             \n",
       "1                                                NaN             \n",
       "2                                                NaN             \n",
       "3                            Engineering Informatics             \n",
       "4                                                NaN             \n",
       "\n",
       "  Which Junior College are you from?  \\\n",
       "0            Victoria Junior College   \n",
       "1             Pioneer Junior College   \n",
       "2                 Dunman High School   \n",
       "3                                NaN   \n",
       "4             Temasek Junior College   \n",
       "\n",
       "  What was your subject combination in Junior College?  ...  \\\n",
       "0                                            MEH CSE    ...   \n",
       "1                                               PCME    ...   \n",
       "2                                               GCME    ...   \n",
       "3                                                NaN    ...   \n",
       "4                                               PCME    ...   \n",
       "\n",
       "  Please elaborate on your ranking sequence :).3  \\\n",
       "0                                            NaN   \n",
       "1                                            NaN   \n",
       "2                                              -   \n",
       "3                                            nil   \n",
       "4           GES only acts as a form of reference   \n",
       "\n",
       "  Are you aware of or have attended any programmes organized by SMU SCIS?  \\\n",
       "0                                                Yes                        \n",
       "1                                                 No                        \n",
       "2                                                Yes                        \n",
       "3                                                Yes                        \n",
       "4                                                Yes                        \n",
       "\n",
       "  In this case, what kind of programmes would you want to participate in or hope to see more of?  \\\n",
       "0                                                NaN                                               \n",
       "1                                                NaN                                               \n",
       "2                                                NaN                                               \n",
       "3                                                NaN                                               \n",
       "4                                                NaN                                               \n",
       "\n",
       "        What is/are the programme(s)?  \\\n",
       "0                                Mitb   \n",
       "1                                 NaN   \n",
       "2  pre uni exposure workshops by scis   \n",
       "3                      forgot sorry..   \n",
       "4         Virtual Information Session   \n",
       "\n",
       "  In general, how would you rate the quality of these programmes?  \\\n",
       "0                                               10.0                \n",
       "1                                                NaN                \n",
       "2                                                6.0                \n",
       "3                                                6.0                \n",
       "4                                                8.0                \n",
       "\n",
       "      Please elaborate on the chosen rating  \\\n",
       "0                                      Good   \n",
       "1                                       NaN   \n",
       "2  get to be exposed in a v beginners level   \n",
       "3                         didnt attend many   \n",
       "4                        Many opportunities   \n",
       "\n",
       "  What will you use to find out more about or critique such programmes?  \\\n",
       "0                                            YouTube                      \n",
       "1                                          Instagram                      \n",
       "2                                       school email                      \n",
       "3                                      Word-of-Mouth                      \n",
       "4                           Word-of-Mouth, Instagram                      \n",
       "\n",
       "  Last but not the least, what is your Gender?     Submitted At  \\\n",
       "0                                         Male   15/3/2022 0:09   \n",
       "1                                         Male  14/3/2022 14:24   \n",
       "2                                       Female  14/3/2022 14:22   \n",
       "3                                         Male  14/3/2022 13:36   \n",
       "4                                       Female  14/3/2022 13:32   \n",
       "\n",
       "                              Token  \n",
       "0  xt1po8c91glpr90vqvi1i8slxt1po8c8  \n",
       "1  g0siq2gnksmzcwsag0sidjudrwyw2q01  \n",
       "2  elguz828qfo5ob2qrut3delguz8bj3ni  \n",
       "3  hiipyebnjb1pfes8o7khj1hiipye4vka  \n",
       "4  6cmxclrxrv0vqrgnzvt6cmxclrx7bi2l  \n",
       "\n",
       "[5 rows x 29 columns]"
      ]
     },
     "execution_count": 2,
     "metadata": {},
     "output_type": "execute_result"
    }
   ],
   "source": [
    "data = pd.read_csv(r'responses.csv', encoding='utf-8')\n",
    "data.head()"
   ]
  },
  {
   "cell_type": "code",
   "execution_count": 3,
   "id": "1bf37149",
   "metadata": {},
   "outputs": [],
   "source": [
    "# Helper Function to remove null values, special characters and convert text to lowercase\n",
    "\n",
    "def cleaner_fn(df):\n",
    "    df = df.replace(np.nan, '', regex=True)\n",
    "    df = df.replace(r'[-]+', ' ', regex=True)\n",
    "    df = df.replace('NIL|nil|Nil', ' ', regex=True)\n",
    "    \n",
    "    for column in df:\n",
    "        df[column] = df[column].str.replace('[^\\w\\s]', ' ')\n",
    "        df[column] = df[column].str.lower()\n",
    "    return df"
   ]
  },
  {
   "cell_type": "markdown",
   "id": "08a01b26",
   "metadata": {},
   "source": [
    "## Gender"
   ]
  },
  {
   "cell_type": "code",
   "execution_count": 4,
   "id": "dc4ad647",
   "metadata": {},
   "outputs": [
    {
     "data": {
      "text/plain": [
       "Last but not the least, what is your Gender?\n",
       "Female    15\n",
       "Male      18\n",
       "dtype: int64"
      ]
     },
     "execution_count": 4,
     "metadata": {},
     "output_type": "execute_result"
    }
   ],
   "source": [
    "# Gender\n",
    "gender = data.iloc[:, [-3]]\n",
    "gender.head()\n",
    "\n",
    "gender = gender.groupby(gender['Last but not the least, what is your Gender?'])\n",
    "gender.size()\n",
    "#gender.size().plot(kind='bar')"
   ]
  },
  {
   "cell_type": "markdown",
   "id": "717e688f",
   "metadata": {},
   "source": [
    "## Current Stage of Life / Educational Pursuit"
   ]
  },
  {
   "cell_type": "code",
   "execution_count": 5,
   "id": "69596dfb",
   "metadata": {},
   "outputs": [
    {
     "data": {
      "text/plain": [
       "What is your current stage of life / educational pursuit?\n",
       "Polytechnic     2\n",
       "University     31\n",
       "dtype: int64"
      ]
     },
     "execution_count": 5,
     "metadata": {},
     "output_type": "execute_result"
    }
   ],
   "source": [
    "# What is your current stage of life / educational pursuit?\n",
    "current_stage =  data.iloc[:, [0]]\n",
    "#current_stage.head()\n",
    "\n",
    "current_stage = current_stage.groupby(current_stage['What is your current stage of life / educational pursuit?'])\n",
    "current_stage.size()\n",
    "#current_stage.size().plot(kind='bar')\n",
    "\n",
    "# Most of our respondents are currently pursuing education in a university, with only 2 who are currently in Polytechnic.\n",
    "# Results may be biased towards university-based opinions"
   ]
  },
  {
   "cell_type": "markdown",
   "id": "5734a9fe",
   "metadata": {},
   "source": [
    "## Respondents who are SMU Students"
   ]
  },
  {
   "cell_type": "code",
   "execution_count": 6,
   "id": "a449e4d0",
   "metadata": {},
   "outputs": [
    {
     "data": {
      "text/plain": [
       "Are you from Singapore Management University (SMU)?\n",
       "Yes    31\n",
       "dtype: int64"
      ]
     },
     "execution_count": 6,
     "metadata": {},
     "output_type": "execute_result"
    }
   ],
   "source": [
    "# How many are from SMU\n",
    "from_smu =  data.iloc[:, [1]]\n",
    "# from_smu.head()\n",
    "\n",
    "from_smu = from_smu.groupby(from_smu['Are you from Singapore Management University (SMU)?'])\n",
    "from_smu.size()\n",
    "#from_smu.size().plot(kind='bar')\n",
    "\n",
    "# All of our university respondents are from SMU, in which their answers might be biased towards SMU"
   ]
  },
  {
   "cell_type": "markdown",
   "id": "be775002",
   "metadata": {},
   "source": [
    "## Respondents who are SMU SCIS Students"
   ]
  },
  {
   "cell_type": "code",
   "execution_count": 7,
   "id": "15a3ab45",
   "metadata": {},
   "outputs": [
    {
     "data": {
      "text/plain": [
       "Are you from the School of Computing and Information Systems (SCIS)?\n",
       "No      2\n",
       "Yes    29\n",
       "dtype: int64"
      ]
     },
     "execution_count": 7,
     "metadata": {},
     "output_type": "execute_result"
    }
   ],
   "source": [
    "# From SCIS\n",
    "from_scis =  data.iloc[:, [2]]\n",
    "#from_scis.head()\n",
    "\n",
    "from_scis = from_scis.groupby(from_scis['Are you from the School of Computing and Information Systems (SCIS)?'])\n",
    "from_scis.size()\n",
    "#from_scis.size().plot(kind='bar')\n",
    "\n",
    "# Almost all of our University respondents, all from SMU are from SCIS. Biasness might come in here towards SCIS as well."
   ]
  },
  {
   "cell_type": "markdown",
   "id": "8931937c",
   "metadata": {},
   "source": [
    "## Extract Open-Ended Questions"
   ]
  },
  {
   "cell_type": "code",
   "execution_count": 8,
   "id": "5476450d",
   "metadata": {
    "scrolled": true
   },
   "outputs": [
    {
     "data": {
      "text/html": [
       "<div>\n",
       "<style scoped>\n",
       "    .dataframe tbody tr th:only-of-type {\n",
       "        vertical-align: middle;\n",
       "    }\n",
       "\n",
       "    .dataframe tbody tr th {\n",
       "        vertical-align: top;\n",
       "    }\n",
       "\n",
       "    .dataframe thead th {\n",
       "        text-align: right;\n",
       "    }\n",
       "</style>\n",
       "<table border=\"1\" class=\"dataframe\">\n",
       "  <thead>\n",
       "    <tr style=\"text-align: right;\">\n",
       "      <th></th>\n",
       "      <th>Why SCIS over other schools</th>\n",
       "      <th>Uni Ranking Elaboration</th>\n",
       "      <th>Course Ranking Elaboration</th>\n",
       "      <th>3 words that come into your mind together with SMU SCIS</th>\n",
       "      <th>Factors for Uni Choice</th>\n",
       "      <th>Course Ranking Elaboration after GES</th>\n",
       "      <th>In this case, what kind of programmes would you want to participate in or hope to see more of?</th>\n",
       "      <th>What is/are the programme(s)?</th>\n",
       "      <th>Elaboration on Rating SCIS Events Attended</th>\n",
       "    </tr>\n",
       "  </thead>\n",
       "  <tbody>\n",
       "    <tr>\n",
       "      <th>0</th>\n",
       "      <td>No</td>\n",
       "      <td>NaN</td>\n",
       "      <td>NaN</td>\n",
       "      <td>Good, demanding, huge</td>\n",
       "      <td>NaN</td>\n",
       "      <td>NaN</td>\n",
       "      <td>NaN</td>\n",
       "      <td>Mitb</td>\n",
       "      <td>Good</td>\n",
       "    </tr>\n",
       "    <tr>\n",
       "      <th>1</th>\n",
       "      <td>More industry based/practical</td>\n",
       "      <td>Name / program</td>\n",
       "      <td>Rep and igp</td>\n",
       "      <td>Reputation, good, recognised</td>\n",
       "      <td>NaN</td>\n",
       "      <td>NaN</td>\n",
       "      <td>NaN</td>\n",
       "      <td>NaN</td>\n",
       "      <td>NaN</td>\n",
       "    </tr>\n",
       "    <tr>\n",
       "      <th>2</th>\n",
       "      <td>want a less-technical degree that has equal ba...</td>\n",
       "      <td>nus confirm first la so vigorous, ntu quite ol...</td>\n",
       "      <td>by feel</td>\n",
       "      <td>average, not-so-technical, tough</td>\n",
       "      <td>dont want to stay in hall and interact as soci...</td>\n",
       "      <td>-</td>\n",
       "      <td>NaN</td>\n",
       "      <td>pre uni exposure workshops by scis</td>\n",
       "      <td>get to be exposed in a v beginners level</td>\n",
       "    </tr>\n",
       "    <tr>\n",
       "      <th>3</th>\n",
       "      <td>because its SMU</td>\n",
       "      <td>ntu and nus students are more technically skilled</td>\n",
       "      <td>NIL</td>\n",
       "      <td>Huge</td>\n",
       "      <td>got Rome Q, no Rome Q no sch</td>\n",
       "      <td>nil</td>\n",
       "      <td>NaN</td>\n",
       "      <td>forgot sorry..</td>\n",
       "      <td>didnt attend many</td>\n",
       "    </tr>\n",
       "    <tr>\n",
       "      <th>4</th>\n",
       "      <td>Improve presentation skills</td>\n",
       "      <td>SMU has smaller group seminars</td>\n",
       "      <td>SMU provides out of classroom opportunities</td>\n",
       "      <td>Interactive, Welcoming, Good</td>\n",
       "      <td>Enjoy working with friends</td>\n",
       "      <td>GES only acts as a form of reference</td>\n",
       "      <td>NaN</td>\n",
       "      <td>Virtual Information Session</td>\n",
       "      <td>Many opportunities</td>\n",
       "    </tr>\n",
       "  </tbody>\n",
       "</table>\n",
       "</div>"
      ],
      "text/plain": [
       "                         Why SCIS over other schools  \\\n",
       "0                                                 No   \n",
       "1                      More industry based/practical   \n",
       "2  want a less-technical degree that has equal ba...   \n",
       "3                                    because its SMU   \n",
       "4                        Improve presentation skills   \n",
       "\n",
       "                             Uni Ranking Elaboration  \\\n",
       "0                                                NaN   \n",
       "1                                     Name / program   \n",
       "2  nus confirm first la so vigorous, ntu quite ol...   \n",
       "3  ntu and nus students are more technically skilled   \n",
       "4                     SMU has smaller group seminars   \n",
       "\n",
       "                    Course Ranking Elaboration  \\\n",
       "0                                          NaN   \n",
       "1                                  Rep and igp   \n",
       "2                                      by feel   \n",
       "3                                          NIL   \n",
       "4  SMU provides out of classroom opportunities   \n",
       "\n",
       "  3 words that come into your mind together with SMU SCIS  \\\n",
       "0                              Good, demanding, huge        \n",
       "1                       Reputation, good, recognised        \n",
       "2                   average, not-so-technical, tough        \n",
       "3                                               Huge        \n",
       "4                       Interactive, Welcoming, Good        \n",
       "\n",
       "                              Factors for Uni Choice  \\\n",
       "0                                                NaN   \n",
       "1                                                NaN   \n",
       "2  dont want to stay in hall and interact as soci...   \n",
       "3                       got Rome Q, no Rome Q no sch   \n",
       "4                         Enjoy working with friends   \n",
       "\n",
       "   Course Ranking Elaboration after GES  \\\n",
       "0                                   NaN   \n",
       "1                                   NaN   \n",
       "2                                     -   \n",
       "3                                   nil   \n",
       "4  GES only acts as a form of reference   \n",
       "\n",
       "  In this case, what kind of programmes would you want to participate in or hope to see more of?  \\\n",
       "0                                                NaN                                               \n",
       "1                                                NaN                                               \n",
       "2                                                NaN                                               \n",
       "3                                                NaN                                               \n",
       "4                                                NaN                                               \n",
       "\n",
       "        What is/are the programme(s)?  \\\n",
       "0                                Mitb   \n",
       "1                                 NaN   \n",
       "2  pre uni exposure workshops by scis   \n",
       "3                      forgot sorry..   \n",
       "4         Virtual Information Session   \n",
       "\n",
       "  Elaboration on Rating SCIS Events Attended  \n",
       "0                                       Good  \n",
       "1                                        NaN  \n",
       "2   get to be exposed in a v beginners level  \n",
       "3                          didnt attend many  \n",
       "4                         Many opportunities  "
      ]
     },
     "execution_count": 8,
     "metadata": {},
     "output_type": "execute_result"
    }
   ],
   "source": [
    "# Open-Ended Questions\n",
    "\n",
    "# 3: Why SCIS over other unis\n",
    "# 11: Uni Ranking Elaboration\n",
    "# 13: Courses Ranking Elaboration\n",
    "# 14: 3 Words Related to SCIS\n",
    "# 16: Factors for Uni Choice (CCA, Friends etc)\n",
    "# 19: Courses Ranking Elaboration after GES\n",
    "# 21: SCIS Programmes Hope to see / Interested in / Want to Participate\n",
    "# 22: SCIS Events Attended\n",
    "# 24: Elaboration on Rating SCIS Events Attended\n",
    "\n",
    "oe_qn = data.iloc[:,[3,11,13,14,16,19,21,22,24]]\n",
    "oe_qn = oe_qn.rename(columns={'Please elaborate on your ranking sequence :)': 'Uni Ranking Elaboration',\n",
    "                      'Please elaborate on your ranking sequence :).1': 'Course Ranking Elaboration',\n",
    "                      'Please elaborate on your ranking sequence :).2': 'Factors for Uni Choice',\n",
    "                      'Please elaborate on your ranking sequence :).3': 'Course Ranking Elaboration after GES',\n",
    "                      'Please elaborate on the chosen rating': 'Elaboration on Rating SCIS Events Attended',\n",
    "                      'Any reasons why you chose SCIS over other IT Courses / Degrees in the other Universities? \\n(E.g. NUS - Computer Science)': 'Why SCIS over other schools',\n",
    "                     })\n",
    "oe_qn.head()"
   ]
  },
  {
   "cell_type": "code",
   "execution_count": 9,
   "id": "9b0be438",
   "metadata": {},
   "outputs": [
    {
     "name": "stderr",
     "output_type": "stream",
     "text": [
      "<ipython-input-3-20bb2b4deeba>:9: FutureWarning: The default value of regex will change from True to False in a future version.\n",
      "  df[column] = df[column].str.replace('[^\\w\\s]', ' ')\n"
     ]
    },
    {
     "data": {
      "text/html": [
       "<div>\n",
       "<style scoped>\n",
       "    .dataframe tbody tr th:only-of-type {\n",
       "        vertical-align: middle;\n",
       "    }\n",
       "\n",
       "    .dataframe tbody tr th {\n",
       "        vertical-align: top;\n",
       "    }\n",
       "\n",
       "    .dataframe thead th {\n",
       "        text-align: right;\n",
       "    }\n",
       "</style>\n",
       "<table border=\"1\" class=\"dataframe\">\n",
       "  <thead>\n",
       "    <tr style=\"text-align: right;\">\n",
       "      <th></th>\n",
       "      <th>Why SCIS over other schools</th>\n",
       "      <th>Uni Ranking Elaboration</th>\n",
       "      <th>Course Ranking Elaboration</th>\n",
       "      <th>3 words that come into your mind together with SMU SCIS</th>\n",
       "      <th>Factors for Uni Choice</th>\n",
       "      <th>Course Ranking Elaboration after GES</th>\n",
       "      <th>In this case, what kind of programmes would you want to participate in or hope to see more of?</th>\n",
       "      <th>What is/are the programme(s)?</th>\n",
       "      <th>Elaboration on Rating SCIS Events Attended</th>\n",
       "    </tr>\n",
       "  </thead>\n",
       "  <tbody>\n",
       "    <tr>\n",
       "      <th>0</th>\n",
       "      <td>no</td>\n",
       "      <td></td>\n",
       "      <td></td>\n",
       "      <td>good  demanding  huge</td>\n",
       "      <td></td>\n",
       "      <td></td>\n",
       "      <td></td>\n",
       "      <td>mitb</td>\n",
       "      <td>good</td>\n",
       "    </tr>\n",
       "    <tr>\n",
       "      <th>1</th>\n",
       "      <td>more industry based practical</td>\n",
       "      <td>name   program</td>\n",
       "      <td>rep and igp</td>\n",
       "      <td>reputation  good  recognised</td>\n",
       "      <td></td>\n",
       "      <td></td>\n",
       "      <td></td>\n",
       "      <td></td>\n",
       "      <td></td>\n",
       "    </tr>\n",
       "    <tr>\n",
       "      <th>2</th>\n",
       "      <td>want a less technical degree that has equal ba...</td>\n",
       "      <td>nus confirm first la so vigorous  ntu quite ol...</td>\n",
       "      <td>by feel</td>\n",
       "      <td>average  not so technical  tough</td>\n",
       "      <td>dont want to stay in hall and interact as soci...</td>\n",
       "      <td></td>\n",
       "      <td></td>\n",
       "      <td>pre uni exposure workshops by scis</td>\n",
       "      <td>get to be exposed in a v beginners level</td>\n",
       "    </tr>\n",
       "    <tr>\n",
       "      <th>3</th>\n",
       "      <td>because its smu</td>\n",
       "      <td>ntu and nus students are more technically skilled</td>\n",
       "      <td></td>\n",
       "      <td>huge</td>\n",
       "      <td>got rome q  no rome q no sch</td>\n",
       "      <td></td>\n",
       "      <td></td>\n",
       "      <td>forgot sorry</td>\n",
       "      <td>didnt attend many</td>\n",
       "    </tr>\n",
       "    <tr>\n",
       "      <th>4</th>\n",
       "      <td>improve presentation skills</td>\n",
       "      <td>smu has smaller group seminars</td>\n",
       "      <td>smu provides out of classroom opportunities</td>\n",
       "      <td>interactive  welcoming  good</td>\n",
       "      <td>enjoy working with friends</td>\n",
       "      <td>ges only acts as a form of reference</td>\n",
       "      <td></td>\n",
       "      <td>virtual information session</td>\n",
       "      <td>many opportunities</td>\n",
       "    </tr>\n",
       "  </tbody>\n",
       "</table>\n",
       "</div>"
      ],
      "text/plain": [
       "                         Why SCIS over other schools  \\\n",
       "0                                                 no   \n",
       "1                      more industry based practical   \n",
       "2  want a less technical degree that has equal ba...   \n",
       "3                                    because its smu   \n",
       "4                        improve presentation skills   \n",
       "\n",
       "                             Uni Ranking Elaboration  \\\n",
       "0                                                      \n",
       "1                                     name   program   \n",
       "2  nus confirm first la so vigorous  ntu quite ol...   \n",
       "3  ntu and nus students are more technically skilled   \n",
       "4                     smu has smaller group seminars   \n",
       "\n",
       "                    Course Ranking Elaboration  \\\n",
       "0                                                \n",
       "1                                  rep and igp   \n",
       "2                                      by feel   \n",
       "3                                                \n",
       "4  smu provides out of classroom opportunities   \n",
       "\n",
       "  3 words that come into your mind together with SMU SCIS  \\\n",
       "0                              good  demanding  huge        \n",
       "1                       reputation  good  recognised        \n",
       "2                   average  not so technical  tough        \n",
       "3                                               huge        \n",
       "4                       interactive  welcoming  good        \n",
       "\n",
       "                              Factors for Uni Choice  \\\n",
       "0                                                      \n",
       "1                                                      \n",
       "2  dont want to stay in hall and interact as soci...   \n",
       "3                       got rome q  no rome q no sch   \n",
       "4                         enjoy working with friends   \n",
       "\n",
       "   Course Ranking Elaboration after GES  \\\n",
       "0                                         \n",
       "1                                         \n",
       "2                                         \n",
       "3                                         \n",
       "4  ges only acts as a form of reference   \n",
       "\n",
       "  In this case, what kind of programmes would you want to participate in or hope to see more of?  \\\n",
       "0                                                                                                  \n",
       "1                                                                                                  \n",
       "2                                                                                                  \n",
       "3                                                                                                  \n",
       "4                                                                                                  \n",
       "\n",
       "        What is/are the programme(s)?  \\\n",
       "0                                mitb   \n",
       "1                                       \n",
       "2  pre uni exposure workshops by scis   \n",
       "3                      forgot sorry     \n",
       "4         virtual information session   \n",
       "\n",
       "  Elaboration on Rating SCIS Events Attended  \n",
       "0                                       good  \n",
       "1                                             \n",
       "2   get to be exposed in a v beginners level  \n",
       "3                          didnt attend many  \n",
       "4                         many opportunities  "
      ]
     },
     "execution_count": 9,
     "metadata": {},
     "output_type": "execute_result"
    }
   ],
   "source": [
    "# clean OE Questions\n",
    "oe_qn = cleaner_fn(oe_qn)\n",
    "oe_qn.head()"
   ]
  },
  {
   "cell_type": "markdown",
   "id": "f3db38cb",
   "metadata": {},
   "source": [
    "## Extract Non-OE Questions"
   ]
  },
  {
   "cell_type": "code",
   "execution_count": 10,
   "id": "f15566a9",
   "metadata": {},
   "outputs": [
    {
     "data": {
      "text/html": [
       "<div>\n",
       "<style scoped>\n",
       "    .dataframe tbody tr th:only-of-type {\n",
       "        vertical-align: middle;\n",
       "    }\n",
       "\n",
       "    .dataframe tbody tr th {\n",
       "        vertical-align: top;\n",
       "    }\n",
       "\n",
       "    .dataframe thead th {\n",
       "        text-align: right;\n",
       "    }\n",
       "</style>\n",
       "<table border=\"1\" class=\"dataframe\">\n",
       "  <thead>\n",
       "    <tr style=\"text-align: right;\">\n",
       "      <th></th>\n",
       "      <th>What is your current stage of life / educational pursuit?</th>\n",
       "      <th>Are you from Singapore Management University (SMU)?</th>\n",
       "      <th>Are you from the School of Computing and Information Systems (SCIS)?</th>\n",
       "      <th>Where were you studying at before coming into SMU?</th>\n",
       "      <th>What is/was your course of study in your educational institution?</th>\n",
       "      <th>Which Polytechnic are you from?</th>\n",
       "      <th>What was the diploma / course you are studying/have studied?</th>\n",
       "      <th>Which Junior College are you from?</th>\n",
       "      <th>What was your subject combination in Junior College?</th>\n",
       "      <th>In terms of IT, rank the following according to their offerings of the best courses / opportunities / expertise in this sector.</th>\n",
       "      <th>Rank the following IT courses offered by the universities</th>\n",
       "      <th>How important are these factors to you in deciding the choice of university or tertiary education?</th>\n",
       "      <th>After looking at the GES, rank the following IT courses offered by the universities</th>\n",
       "      <th>Were there any changes in your rankings after looking at the GES?</th>\n",
       "      <th>Are you aware of or have attended any programmes organized by SMU SCIS?</th>\n",
       "      <th>In general, how would you rate the quality of these programmes?</th>\n",
       "      <th>What will you use to find out more about or critique such programmes?</th>\n",
       "      <th>Last but not the least, what is your Gender?</th>\n",
       "    </tr>\n",
       "  </thead>\n",
       "  <tbody>\n",
       "    <tr>\n",
       "      <th>0</th>\n",
       "      <td>University</td>\n",
       "      <td>Yes</td>\n",
       "      <td>Yes</td>\n",
       "      <td>Junior College</td>\n",
       "      <td>NaN</td>\n",
       "      <td>NaN</td>\n",
       "      <td>NaN</td>\n",
       "      <td>Victoria Junior College</td>\n",
       "      <td>MEH CSE</td>\n",
       "      <td>National University of Singapore (NUS), Singap...</td>\n",
       "      <td>NUS Business Analytics, NUS Computer Science, ...</td>\n",
       "      <td>Co-Curricular Activities, Friends / Close Frie...</td>\n",
       "      <td>SMU Computer Science, SMU Information Systems,...</td>\n",
       "      <td>NaN</td>\n",
       "      <td>Yes</td>\n",
       "      <td>10.0</td>\n",
       "      <td>YouTube</td>\n",
       "      <td>Male</td>\n",
       "    </tr>\n",
       "    <tr>\n",
       "      <th>1</th>\n",
       "      <td>University</td>\n",
       "      <td>Yes</td>\n",
       "      <td>Yes</td>\n",
       "      <td>Junior College</td>\n",
       "      <td>NaN</td>\n",
       "      <td>NaN</td>\n",
       "      <td>NaN</td>\n",
       "      <td>Pioneer Junior College</td>\n",
       "      <td>PCME</td>\n",
       "      <td>National University of Singapore (NUS), Singap...</td>\n",
       "      <td>NUS Computer Science, SMU Computer Science, SM...</td>\n",
       "      <td>Friends / Close Friends, Food, Co-Curricular A...</td>\n",
       "      <td>SMU Computer Science, SMU Information Systems,...</td>\n",
       "      <td>Yes</td>\n",
       "      <td>No</td>\n",
       "      <td>NaN</td>\n",
       "      <td>Instagram</td>\n",
       "      <td>Male</td>\n",
       "    </tr>\n",
       "    <tr>\n",
       "      <th>2</th>\n",
       "      <td>University</td>\n",
       "      <td>Yes</td>\n",
       "      <td>Yes</td>\n",
       "      <td>Junior College</td>\n",
       "      <td>NaN</td>\n",
       "      <td>NaN</td>\n",
       "      <td>NaN</td>\n",
       "      <td>Dunman High School</td>\n",
       "      <td>GCME</td>\n",
       "      <td>National University of Singapore (NUS), Nanyan...</td>\n",
       "      <td>NUS Computer Science, NUS Information Security...</td>\n",
       "      <td>Staying in Hall / Dormitories, Co-Curricular A...</td>\n",
       "      <td>NUS Computer Science, NUS Information Security...</td>\n",
       "      <td>Yes</td>\n",
       "      <td>Yes</td>\n",
       "      <td>6.0</td>\n",
       "      <td>school email</td>\n",
       "      <td>Female</td>\n",
       "    </tr>\n",
       "    <tr>\n",
       "      <th>3</th>\n",
       "      <td>University</td>\n",
       "      <td>Yes</td>\n",
       "      <td>Yes</td>\n",
       "      <td>Polytechnic</td>\n",
       "      <td>NaN</td>\n",
       "      <td>Nanyang Polytechnic</td>\n",
       "      <td>Engineering Informatics</td>\n",
       "      <td>NaN</td>\n",
       "      <td>NaN</td>\n",
       "      <td>Nanyang Technological University (NTU), Nation...</td>\n",
       "      <td>SMU Information Systems, SMU Computer Science,...</td>\n",
       "      <td>Friends / Close Friends, Entertainment Venues ...</td>\n",
       "      <td>SMU Information Systems, SMU Computer Science,...</td>\n",
       "      <td>No</td>\n",
       "      <td>Yes</td>\n",
       "      <td>6.0</td>\n",
       "      <td>Word-of-Mouth</td>\n",
       "      <td>Male</td>\n",
       "    </tr>\n",
       "    <tr>\n",
       "      <th>4</th>\n",
       "      <td>University</td>\n",
       "      <td>Yes</td>\n",
       "      <td>Yes</td>\n",
       "      <td>Junior College</td>\n",
       "      <td>NaN</td>\n",
       "      <td>NaN</td>\n",
       "      <td>NaN</td>\n",
       "      <td>Temasek Junior College</td>\n",
       "      <td>PCME</td>\n",
       "      <td>Singapore Management University (SMU), Nationa...</td>\n",
       "      <td>SMU Information Systems, SMU Computer Science,...</td>\n",
       "      <td>Friends / Close Friends, Food, Co-Curricular A...</td>\n",
       "      <td>SMU Information Systems, SMU Computer Science,...</td>\n",
       "      <td>No</td>\n",
       "      <td>Yes</td>\n",
       "      <td>8.0</td>\n",
       "      <td>Word-of-Mouth, Instagram</td>\n",
       "      <td>Female</td>\n",
       "    </tr>\n",
       "  </tbody>\n",
       "</table>\n",
       "</div>"
      ],
      "text/plain": [
       "  What is your current stage of life / educational pursuit?  \\\n",
       "0                                         University          \n",
       "1                                         University          \n",
       "2                                         University          \n",
       "3                                         University          \n",
       "4                                         University          \n",
       "\n",
       "  Are you from Singapore Management University (SMU)?  \\\n",
       "0                                                Yes    \n",
       "1                                                Yes    \n",
       "2                                                Yes    \n",
       "3                                                Yes    \n",
       "4                                                Yes    \n",
       "\n",
       "  Are you from the School of Computing and Information Systems (SCIS)?  \\\n",
       "0                                                Yes                     \n",
       "1                                                Yes                     \n",
       "2                                                Yes                     \n",
       "3                                                Yes                     \n",
       "4                                                Yes                     \n",
       "\n",
       "  Where were you studying at before coming into SMU?  \\\n",
       "0                                     Junior College   \n",
       "1                                     Junior College   \n",
       "2                                     Junior College   \n",
       "3                                        Polytechnic   \n",
       "4                                     Junior College   \n",
       "\n",
       "   What is/was your course of study in your educational institution?  \\\n",
       "0                                                NaN                   \n",
       "1                                                NaN                   \n",
       "2                                                NaN                   \n",
       "3                                                NaN                   \n",
       "4                                                NaN                   \n",
       "\n",
       "  Which Polytechnic are you from?  \\\n",
       "0                             NaN   \n",
       "1                             NaN   \n",
       "2                             NaN   \n",
       "3             Nanyang Polytechnic   \n",
       "4                             NaN   \n",
       "\n",
       "  What was the diploma / course you are studying/have studied?  \\\n",
       "0                                                NaN             \n",
       "1                                                NaN             \n",
       "2                                                NaN             \n",
       "3                            Engineering Informatics             \n",
       "4                                                NaN             \n",
       "\n",
       "  Which Junior College are you from?  \\\n",
       "0            Victoria Junior College   \n",
       "1             Pioneer Junior College   \n",
       "2                 Dunman High School   \n",
       "3                                NaN   \n",
       "4             Temasek Junior College   \n",
       "\n",
       "  What was your subject combination in Junior College?  \\\n",
       "0                                            MEH CSE     \n",
       "1                                               PCME     \n",
       "2                                               GCME     \n",
       "3                                                NaN     \n",
       "4                                               PCME     \n",
       "\n",
       "  In terms of IT, rank the following according to their offerings of the best courses / opportunities / expertise in this sector.  \\\n",
       "0  National University of Singapore (NUS), Singap...                                                                                \n",
       "1  National University of Singapore (NUS), Singap...                                                                                \n",
       "2  National University of Singapore (NUS), Nanyan...                                                                                \n",
       "3  Nanyang Technological University (NTU), Nation...                                                                                \n",
       "4  Singapore Management University (SMU), Nationa...                                                                                \n",
       "\n",
       "  Rank the following IT courses offered by the universities  \\\n",
       "0  NUS Business Analytics, NUS Computer Science, ...          \n",
       "1  NUS Computer Science, SMU Computer Science, SM...          \n",
       "2  NUS Computer Science, NUS Information Security...          \n",
       "3  SMU Information Systems, SMU Computer Science,...          \n",
       "4  SMU Information Systems, SMU Computer Science,...          \n",
       "\n",
       "  How important are these factors to you in deciding the choice of university or tertiary education?  \\\n",
       "0  Co-Curricular Activities, Friends / Close Frie...                                                   \n",
       "1  Friends / Close Friends, Food, Co-Curricular A...                                                   \n",
       "2  Staying in Hall / Dormitories, Co-Curricular A...                                                   \n",
       "3  Friends / Close Friends, Entertainment Venues ...                                                   \n",
       "4  Friends / Close Friends, Food, Co-Curricular A...                                                   \n",
       "\n",
       "  After looking at the GES, rank the following IT courses offered by the universities  \\\n",
       "0  SMU Computer Science, SMU Information Systems,...                                    \n",
       "1  SMU Computer Science, SMU Information Systems,...                                    \n",
       "2  NUS Computer Science, NUS Information Security...                                    \n",
       "3  SMU Information Systems, SMU Computer Science,...                                    \n",
       "4  SMU Information Systems, SMU Computer Science,...                                    \n",
       "\n",
       "  Were there any changes in your rankings after looking at the GES?   \\\n",
       "0                                                NaN                   \n",
       "1                                                Yes                   \n",
       "2                                                Yes                   \n",
       "3                                                 No                   \n",
       "4                                                 No                   \n",
       "\n",
       "  Are you aware of or have attended any programmes organized by SMU SCIS?  \\\n",
       "0                                                Yes                        \n",
       "1                                                 No                        \n",
       "2                                                Yes                        \n",
       "3                                                Yes                        \n",
       "4                                                Yes                        \n",
       "\n",
       "   In general, how would you rate the quality of these programmes?  \\\n",
       "0                                               10.0                 \n",
       "1                                                NaN                 \n",
       "2                                                6.0                 \n",
       "3                                                6.0                 \n",
       "4                                                8.0                 \n",
       "\n",
       "  What will you use to find out more about or critique such programmes?  \\\n",
       "0                                            YouTube                      \n",
       "1                                          Instagram                      \n",
       "2                                       school email                      \n",
       "3                                      Word-of-Mouth                      \n",
       "4                           Word-of-Mouth, Instagram                      \n",
       "\n",
       "  Last but not the least, what is your Gender?  \n",
       "0                                         Male  \n",
       "1                                         Male  \n",
       "2                                       Female  \n",
       "3                                         Male  \n",
       "4                                       Female  "
      ]
     },
     "execution_count": 10,
     "metadata": {},
     "output_type": "execute_result"
    }
   ],
   "source": [
    "# Non-OE Questions\n",
    "\n",
    "noe_qn = data.drop(data.iloc[:,[3,11,13,14,16,19,21,22,24]], axis = 1)\n",
    "noe_qn = noe_qn.drop(columns=['Submitted At', 'Token'])\n",
    "noe_qn.head()"
   ]
  },
  {
   "cell_type": "code",
   "execution_count": 11,
   "id": "4c388426",
   "metadata": {},
   "outputs": [],
   "source": [
    "# original stopwords\n",
    "def original_stopwords():\n",
    "    return stopwords.words('english')"
   ]
  },
  {
   "cell_type": "code",
   "execution_count": 12,
   "id": "f246a47d",
   "metadata": {},
   "outputs": [],
   "source": [
    "# Helper Function to extract text from open ended questions, returns a list of sentences\n",
    "\n",
    "def extract_text(df):\n",
    "    for(columnName, columnData) in df.iteritems():\n",
    "        qn_content = []\n",
    "        for line in df[columnName]:\n",
    "            if len(line.strip()) > 0: # Eliminates empty answers\n",
    "                qn_content.append(line)\n",
    "    return qn_content"
   ]
  },
  {
   "cell_type": "code",
   "execution_count": 13,
   "id": "5c5a2b7d",
   "metadata": {},
   "outputs": [],
   "source": [
    "# Helper Function for Tokenisation of text content, returns a list of word or words depending on ngrams defined\n",
    "def token_fn(sentence_list, n, stop_words_custom):\n",
    "    output = []\n",
    "    for line in sentence_list:\n",
    "        token = word_tokenize(line)\n",
    "        gram = list(ngrams(token, n))\n",
    "        \n",
    "        if n == 1:\n",
    "            for content in gram:\n",
    "                for word in content:\n",
    "                    if word not in stop_words_custom:\n",
    "                        output.append(word)   \n",
    "        else:\n",
    "            for content in gram:\n",
    "                link = ''\n",
    "                for word in content:\n",
    "                    link += word + '_'\n",
    "                link = link[:-1]\n",
    "                output.append(link)\n",
    "    return output\n",
    "\n",
    "# Helper Function for Stemming using Porter Stemmer, returns a list of stemmed words\n",
    "def stem_fn(word_list):\n",
    "    porter_stemmer = PorterStemmer()\n",
    "    words_stemmed = []\n",
    "    for w in words_list:\n",
    "        words_stemmed.append(porter_stemmer.stem(w))\n",
    "    \n",
    "    return words_stemmed\n",
    "\n",
    "# Helper Function for Word Cloud Generation\n",
    "def wc_fn(word_list, title, no_word_max):\n",
    "    words_joined = \" \".join([w for w in word_list])\n",
    "    my_wordcloud = WordCloud(background_color='white', max_words = no_word_max, \n",
    "                             max_font_size = 1000,\n",
    "                             width=2500,\n",
    "                             height=1400).generate(words_joined)\n",
    "    plt.imshow(my_wordcloud)\n",
    "    plt.axis('off')\n",
    "    plt.title(title)\n",
    "    plt.show()"
   ]
  },
  {
   "cell_type": "markdown",
   "id": "89ef7edb",
   "metadata": {},
   "source": [
    "## Why SCIS?"
   ]
  },
  {
   "cell_type": "code",
   "execution_count": 14,
   "id": "6154a8dc",
   "metadata": {},
   "outputs": [
    {
     "data": {
      "image/png": "[encoded data removed]",
      "text/plain": [
       "<Figure size 432x288 with 1 Axes>"
      ]
     },
     "metadata": {
      "needs_background": "light"
     },
     "output_type": "display_data"
    },
    {
     "data": {
      "image/png": "[encoded data removed]",
      "text/plain": [
       "<Figure size 432x288 with 1 Axes>"
      ]
     },
     "metadata": {
      "needs_background": "light"
     },
     "output_type": "display_data"
    },
    {
     "data": {
      "image/png": "[encoded data removed]",
      "text/plain": [
       "<Figure size 432x288 with 1 Axes>"
      ]
     },
     "metadata": {
      "needs_background": "light"
     },
     "output_type": "display_data"
    }
   ],
   "source": [
    "# Why SCIS over the other Unis or Schools?\n",
    "\n",
    "why_scis = oe_qn.iloc[:, [0]]\n",
    "#why_scis.head()\n",
    "\n",
    "sw = original_stopwords()\n",
    "sw.extend(['seemed', 'want', 'smu', 'based', 'city'\n",
    "          ,'rank', 'points', 'lol', 'bro', 'cmi', 'hahah'])\n",
    "\n",
    "sentences = extract_text(why_scis)\n",
    "\n",
    "single_word = token_fn(sentences, 1, sw)\n",
    "double_word = token_fn(sentences, 2, sw)\n",
    "triple_word = token_fn(sentences, 3, sw)\n",
    "\n",
    "wc_fn(single_word, 'Asked SCIS Students: \"Why SCIS?\"', 15)\n",
    "wc_fn(double_word, 'Asked SCIS Students: \"Why SCIS?\"', 15)\n",
    "wc_fn(triple_word, 'Asked SCIS Students: \"Why SCIS?\"', 15)\n",
    "\n",
    "#stylecloud\n",
    "sc_words = \" \".join([w.upper() for w in single_word])\n",
    "sc_words_2 = \" \".join([w.upper() for w in double_word])\n",
    "sc_words_3 = \" \".join([w.upper() for w in triple_word])\n",
    "\n",
    "stylecloud.gen_stylecloud(sc_words,\n",
    "                          icon_name = 'fas fa-question',\n",
    "                          palette ='cartocolors.qualitative.Bold_8',\n",
    "                          background_color = 'black',\n",
    "                          output_name ='why_scis_single.png',\n",
    "                          collocations = False,\n",
    "                          custom_stopwords = sw)\n",
    "\n",
    "stylecloud.gen_stylecloud(sc_words_2,\n",
    "                          icon_name = 'fas fa-question',\n",
    "                          palette ='cartocolors.qualitative.Bold_8',\n",
    "                          background_color = 'black',\n",
    "                          output_name ='why_scis_double.png',\n",
    "                          collocations = False,\n",
    "                          custom_stopwords = sw)\n",
    "\n",
    "stylecloud.gen_stylecloud(sc_words_3,\n",
    "                          icon_name = 'fas fa-question',\n",
    "                          palette ='cartocolors.qualitative.Bold_8',\n",
    "                          background_color = 'black',\n",
    "                          output_name ='why_scis_triple.png',\n",
    "                          collocations = False,\n",
    "                          custom_stopwords = sw)\n",
    "                          \n",
    "### References ###\n",
    "## icon_name: https://fontawesome.com/\n",
    "## palette: https://jiffyclub.github.io/palettable/cartocolors/qualitative/\n",
    "\n",
    "\n",
    "# From single word WC: Probably related to the skills / majors that are offered SCIS\n",
    "# From double & triple word WC: SCIS offers industry-based and practical skills, Less technical or more-friendly degrees\n",
    "## as well as smart-city management"
   ]
  },
  {
   "cell_type": "code",
   "execution_count": 15,
   "id": "a1887c1b",
   "metadata": {},
   "outputs": [
    {
     "name": "stderr",
     "output_type": "stream",
     "text": [
      "D:\\Anaconda\\lib\\site-packages\\seaborn\\_decorators.py:36: FutureWarning: Pass the following variables as keyword args: x, y. From version 0.12, the only valid positional argument will be `data`, and passing other arguments without an explicit keyword will result in an error or misinterpretation.\n",
      "  warnings.warn(\n"
     ]
    },
    {
     "data": {
      "image/png": "[encoded data removed]",
      "text/plain": [
       "<Figure size 1080x667.491 with 1 Axes>"
      ]
     },
     "metadata": {
      "needs_background": "light"
     },
     "output_type": "display_data"
    }
   ],
   "source": [
    "# Common words used\n",
    "from sklearn.feature_extraction.text import CountVectorizer\n",
    "import numpy as np\n",
    "\n",
    "import matplotlib.pyplot as plt\n",
    "import seaborn as sns\n",
    "sns.set_style('whitegrid')\n",
    "%matplotlib inline\n",
    "\n",
    "# Helper function\n",
    "def plot_10_most_common_words(count_data, count_vectorizer):\n",
    "    import matplotlib.pyplot as plt\n",
    "    words = count_vectorizer.get_feature_names()\n",
    "    total_counts = np.zeros(len(words))\n",
    "    for t in count_data:\n",
    "        total_counts+=t.toarray()[0]\n",
    "    \n",
    "    count_dict = (zip(words, total_counts))\n",
    "    count_dict = sorted(count_dict, key=lambda x:x[1], reverse=True)[0:10]\n",
    "    words = [w[0] for w in count_dict]\n",
    "    counts = [w[1] for w in count_dict]\n",
    "    x_pos = np.arange(len(words)) \n",
    "    \n",
    "    plt.figure(2, figsize=(15, 15/1.6180))\n",
    "    plt.subplot(title='10 Most Common Words')\n",
    "    sns.set_context(\"notebook\", font_scale=1.25, rc={\"lines.linewidth\": 2.5})\n",
    "    sns.barplot(x_pos, counts, palette='husl')\n",
    "    plt.xticks(x_pos, words, rotation=90) \n",
    "    plt.xlabel('words')\n",
    "    plt.ylabel('counts')\n",
    "    plt.show()\n",
    "\n",
    "# Initialise the count vectorizer with the English stop words\n",
    "count_vectorizer = CountVectorizer(stop_words=sw)\n",
    "\n",
    "# Fit and transform the processed titles\n",
    "count_data = count_vectorizer.fit_transform(\n",
    "    why_scis['Why SCIS over other schools']\n",
    ")\n",
    "\n",
    "# Visualise the 10 most common words\n",
    "plot_10_most_common_words(count_data, count_vectorizer)"
   ]
  },
  {
   "cell_type": "code",
   "execution_count": 16,
   "id": "60998ee5",
   "metadata": {
    "scrolled": true
   },
   "outputs": [
    {
     "name": "stdout",
     "output_type": "stream",
     "text": [
      "Topics found via LDA:\n",
      "\n",
      "Topic #0:\n",
      "money well one like best choice remaining options\n",
      "\n",
      "Topic #1:\n",
      "skills acceptance better focus soft improve presentation higher\n",
      "\n",
      "Topic #2:\n",
      "major skill management smart get speak class valuable\n",
      "\n",
      "Topic #3:\n",
      "lower point cut degree balance biz less equal\n",
      "\n",
      "Topic #4:\n",
      "seminar lesson style background town needed industry practical\n"
     ]
    }
   ],
   "source": [
    "import warnings\n",
    "warnings.simplefilter(\"ignore\", DeprecationWarning)\n",
    "\n",
    "# Load the LDA model from sk-learn\n",
    "from sklearn.decomposition import LatentDirichletAllocation as LDA\n",
    " \n",
    "# Helper function\n",
    "def print_topics(model, count_vectorizer, n_top_words):\n",
    "    words = count_vectorizer.get_feature_names()\n",
    "    for topic_idx, topic in enumerate(model.components_):\n",
    "        print(\"\\nTopic #%d:\" % topic_idx)\n",
    "        print(\" \".join([words[i]\n",
    "                        for i in topic.argsort()[:-n_top_words - 1:-1]]))\n",
    "        \n",
    "# Tweak the two parameters below (use int values below 15)\n",
    "number_topics = 5\n",
    "number_words = 8\n",
    "\n",
    "# Create and fit the LDA model\n",
    "lda = LDA(n_components=number_topics)\n",
    "lda.fit(count_data)\n",
    "\n",
    "# Print the topics found by the LDA model\n",
    "print(\"Topics found via LDA:\")\n",
    "print_topics(lda, count_vectorizer, number_words)\n",
    "\n",
    "# From LDA: \n",
    "## Seems that SCIS is deemed as a 'lower barrier to entry'\n",
    "## Encourages In-Class Discussions\n",
    "## Less Technical, Easier to Learn"
   ]
  },
  {
   "cell_type": "markdown",
   "id": "bae2bad4",
   "metadata": {},
   "source": [
    "## SCIS Students: Previous Education / School"
   ]
  },
  {
   "cell_type": "code",
   "execution_count": 17,
   "id": "edafada2",
   "metadata": {
    "scrolled": false
   },
   "outputs": [
    {
     "name": "stderr",
     "output_type": "stream",
     "text": [
      "D:\\Anaconda\\lib\\site-packages\\pandas\\core\\frame.py:4308: SettingWithCopyWarning: \n",
      "A value is trying to be set on a copy of a slice from a DataFrame\n",
      "\n",
      "See the caveats in the documentation: https://pandas.pydata.org/pandas-docs/stable/user_guide/indexing.html#returning-a-view-versus-a-copy\n",
      "  return super().drop(\n"
     ]
    },
    {
     "data": {
      "text/plain": [
       "Where were you studying at before coming into SMU?\n",
       "High school            1\n",
       "Junior College        11\n",
       "Millenia Institute     1\n",
       "Polytechnic           16\n",
       "dtype: int64"
      ]
     },
     "execution_count": 17,
     "metadata": {},
     "output_type": "execute_result"
    }
   ],
   "source": [
    "# SCIS Students - What was their previous education/school? \n",
    "\n",
    "prev_school =  noe_qn.iloc[:, [2, 3, 4, 5, 6, 7, 8]]\n",
    "prev_school.drop(prev_school.index[prev_school['Are you from the School of Computing and Information Systems (SCIS)?'] == 'No'], inplace = True)\n",
    "#prev_school.shape\n",
    "prev_school_dist = prev_school.groupby(prev_school['Where were you studying at before coming into SMU?'])\n",
    "prev_school_dist.size()\n",
    "\n",
    "# Majority of our SCIS Student Respondents came from Polytechnic before entering SMU, followed by JCs.\n",
    "## Outliers are 1 from MI and 1 from 'High school' to be found out later below"
   ]
  },
  {
   "cell_type": "markdown",
   "id": "3e066d9d",
   "metadata": {},
   "source": [
    "## SCIS Students from Polytechnic"
   ]
  },
  {
   "cell_type": "code",
   "execution_count": 18,
   "id": "7d8c2a7b",
   "metadata": {},
   "outputs": [
    {
     "data": {
      "text/plain": [
       "Which Polytechnic are you from?\n",
       "Nanyang Polytechnic      2\n",
       "Ngee Ann Polytechnic     3\n",
       "Republic Polytechnic     1\n",
       "Singapore Polytechnic    2\n",
       "Temasek Polytechnic      8\n",
       "dtype: int64"
      ]
     },
     "execution_count": 18,
     "metadata": {},
     "output_type": "execute_result"
    }
   ],
   "source": [
    "# SCIS Students - From Poly\n",
    "is_poly = prev_school['Where were you studying at before coming into SMU?'] == 'Polytechnic'\n",
    "prev_school_poly = prev_school[is_poly]\n",
    "prev_school_poly = prev_school_poly[[\"Which Polytechnic are you from?\",\"What was the diploma / course you are studying/have studied?\"]]\n",
    "#prev_school_poly.head()\n",
    "\n",
    "prev_school_poly_dist = prev_school_poly.groupby(prev_school_poly['Which Polytechnic are you from?'])\n",
    "prev_school_poly_dist.size()\n",
    "\n",
    "# Majority of our SCIS Student Respondents who are from Polytechnic came from Temasek Polytechnic before entering SMU\n",
    "## All 5 Singapore Polytechnics are present here"
   ]
  },
  {
   "cell_type": "code",
   "execution_count": 19,
   "id": "6e32e47f",
   "metadata": {},
   "outputs": [
    {
     "data": {
      "text/plain": [
       "What was the diploma / course you are studying/have studied?\n",
       "Accountancy                                    1\n",
       "Biomedical Engineering                         1\n",
       "Business Information Systems                   1\n",
       "Business Information Technology                1\n",
       "Business Studies                               1\n",
       "Computer Engineering                           1\n",
       "Engineering Informatics                        1\n",
       "Financial Business Informatics                 1\n",
       "Hospitality and Tourism Management             1\n",
       "Integrated Events and Project Management       1\n",
       "International Business and Entrepreneurship    1\n",
       "Logistics & Operations Management              2\n",
       "Maritime Business                              1\n",
       "Mechatronics Engineering                       1\n",
       "Network Systems and Security                   1\n",
       "dtype: int64"
      ]
     },
     "execution_count": 19,
     "metadata": {},
     "output_type": "execute_result"
    }
   ],
   "source": [
    "# SCIS Students - From Poly - Diplomas\n",
    "prev_school_poly_dip_dist = prev_school_poly.groupby(prev_school_poly['What was the diploma / course you are studying/have studied?'])\n",
    "prev_school_poly_dip_dist.size()"
   ]
  },
  {
   "cell_type": "code",
   "execution_count": 20,
   "id": "dbb867ef",
   "metadata": {},
   "outputs": [
    {
     "data": {
      "image/png": "[encoded data removed]",
      "text/plain": [
       "<Figure size 432x288 with 1 Axes>"
      ]
     },
     "metadata": {
      "needs_background": "light"
     },
     "output_type": "display_data"
    }
   ],
   "source": [
    "diplomas = [entry.upper() for entry in prev_school_poly['What was the diploma / course you are studying/have studied?']]\n",
    "wc_fn(diplomas, 'Previous Diplomas of SCIS Students from Polytechnic', 15)\n",
    "\n",
    "# Seems that most of the poly diplomas of our respndents are mainly to do with Business and Engineering. \n",
    "## There are some IT-related ones like 'Informatics'."
   ]
  },
  {
   "cell_type": "code",
   "execution_count": 21,
   "id": "8ae0f75e",
   "metadata": {
    "scrolled": true
   },
   "outputs": [
    {
     "data": {
      "text/plain": [
       "What was the diploma / course you are studying/have studied?\n",
       "Biomedical Engineering                         1\n",
       "Business Information Technology                1\n",
       "Computer Engineering                           1\n",
       "Financial Business Informatics                 1\n",
       "Hospitality and Tourism Management             1\n",
       "International Business and Entrepreneurship    1\n",
       "Logistics & Operations Management              2\n",
       "dtype: int64"
      ]
     },
     "execution_count": 21,
     "metadata": {},
     "output_type": "execute_result"
    }
   ],
   "source": [
    "# Could there be a certain diploma in TP related to IT that could be advantageous for the student in SCIS?\n",
    "is_TP = prev_school_poly['Which Polytechnic are you from?'] == 'Temasek Polytechnic'\n",
    "prev_school_temasek_poly = prev_school_poly[is_TP]\n",
    "#prev_school_temasek_poly.head()\n",
    "\n",
    "prev_school_temasek_poly_dip_dist = prev_school_temasek_poly.groupby(prev_school_temasek_poly['What was the diploma / course you are studying/have studied?'])\n",
    "prev_school_temasek_poly_dip_dist.size()\n",
    "\n",
    "## Possibly related to IT will be BIT, Com Engineering, FBI. \n",
    "## Sample size is fairly small to determine if there is a relation with regards to the Diploma\n",
    "## School values, Culture, Common Friends?"
   ]
  },
  {
   "cell_type": "markdown",
   "id": "491b4dbb",
   "metadata": {},
   "source": [
    "## SCIS Students from Junior College"
   ]
  },
  {
   "cell_type": "code",
   "execution_count": 22,
   "id": "ede26c83",
   "metadata": {},
   "outputs": [
    {
     "data": {
      "text/plain": [
       "Which Junior College are you from?\n",
       "Catholic Junior College     2\n",
       "Dunman High School          1\n",
       "Hwa Chong Junior College    1\n",
       "Pioneer Junior College      1\n",
       "Raffles Junior College      1\n",
       "Tampines Junior College     1\n",
       "Temasek Junior College      2\n",
       "Victoria Junior College     1\n",
       "Yishun Junior college       1\n",
       "dtype: int64"
      ]
     },
     "execution_count": 22,
     "metadata": {},
     "output_type": "execute_result"
    }
   ],
   "source": [
    "# SCIS Students - From JC\n",
    "is_JC = prev_school['Where were you studying at before coming into SMU?'] == 'Junior College'\n",
    "prev_school_JC = prev_school[is_JC]\n",
    "prev_school_JC = prev_school_JC[[\"Which Junior College are you from?\",\"What was your subject combination in Junior College?\"]]\n",
    "\n",
    "prev_school_JC_dist = prev_school_JC.groupby(prev_school_JC['Which Junior College are you from?'])\n",
    "prev_school_JC_dist.size()\n",
    "\n",
    "# Quite a diverse number of JCs, in which this is before the JC Mergers back in 2019"
   ]
  },
  {
   "cell_type": "code",
   "execution_count": 23,
   "id": "bffe8e6e",
   "metadata": {
    "scrolled": true
   },
   "outputs": [
    {
     "data": {
      "text/plain": [
       "What was your subject combination in Junior College?\n",
       "CMEP       1\n",
       "GCME       2\n",
       "GELM       1\n",
       "MEH CSE    1\n",
       "MEHC       1\n",
       "PCME       5\n",
       "dtype: int64"
      ]
     },
     "execution_count": 23,
     "metadata": {},
     "output_type": "execute_result"
    }
   ],
   "source": [
    "# SCIS Students - From JC - Subject Combinations\n",
    "prev_school_poly_combi_dist = prev_school_JC.groupby(prev_school_JC['What was your subject combination in Junior College?'])\n",
    "prev_school_poly_combi_dist.size()\n",
    "\n",
    "# Majority took the combination of Physics, Chemistry, Mathematics and Economics (PCME)\n",
    "# Following next will be Geography, Chemistry, Mathematics and Economics (GCME)\n",
    "# CSE is China Studies in English"
   ]
  },
  {
   "cell_type": "markdown",
   "id": "4a285bc5",
   "metadata": {},
   "source": [
    "## University Rankings Based on IT"
   ]
  },
  {
   "cell_type": "code",
   "execution_count": 34,
   "id": "efa00c3b",
   "metadata": {},
   "outputs": [
    {
     "data": {
      "text/plain": [
       "<AxesSubplot:title={'center':'First Place'}, xlabel='first_place'>"
      ]
     },
     "execution_count": 34,
     "metadata": {},
     "output_type": "execute_result"
    },
    {
     "data": {
      "image/png": "[encoded data removed]",
      "text/plain": [
       "<Figure size 432x288 with 1 Axes>"
      ]
     },
     "metadata": {
      "needs_background": "light"
     },
     "output_type": "display_data"
    }
   ],
   "source": [
    "# Based on all respondents of survey\n",
    "uni_rankings = pd.DataFrame(noe_qn['In terms of IT, rank the following according to their offerings of the best courses / opportunities / expertise in this sector.'])\n",
    "uni_rankings = uni_rankings.join(oe_qn['Uni Ranking Elaboration'])\n",
    "\n",
    "# uni_rankings.head()\n",
    "rankings = []\n",
    "first_place = []\n",
    "second_place = []\n",
    "third_place = []\n",
    "last_place = []\n",
    "\n",
    "for x in uni_rankings['In terms of IT, rank the following according to their offerings of the best courses / opportunities / expertise in this sector.']:\n",
    "    rankings.append(x.split(', '))\n",
    "\n",
    "for e in rankings:\n",
    "    first_place.append(e[0])\n",
    "    second_place.append(e[1])\n",
    "    third_place.append(e[2])\n",
    "    last_place.append(e[-1])\n",
    "    \n",
    "fp_df = pd.DataFrame(first_place, columns = ['first_place'])\n",
    "first_place_dist = fp_df.groupby(fp_df['first_place'])\n",
    "first_place_dist.size().plot(kind='bar', title = 'First Place')\n",
    "\n",
    "# NUS has the most in first place"
   ]
  },
  {
   "cell_type": "code",
   "execution_count": 35,
   "id": "dd74c7c1",
   "metadata": {},
   "outputs": [
    {
     "data": {
      "text/plain": [
       "<AxesSubplot:title={'center':'Second Place'}, xlabel='second_place'>"
      ]
     },
     "execution_count": 35,
     "metadata": {},
     "output_type": "execute_result"
    },
    {
     "data": {
      "image/png": "[encoded data removed]",
      "text/plain": [
       "<Figure size 432x288 with 1 Axes>"
      ]
     },
     "metadata": {
      "needs_background": "light"
     },
     "output_type": "display_data"
    }
   ],
   "source": [
    "sp_df = pd.DataFrame(second_place, columns = ['second_place'])\n",
    "second_place_dist = sp_df.groupby(sp_df['second_place'])\n",
    "second_place_dist.size().plot(kind='bar', title = 'Second Place')\n",
    "\n",
    "# Second place has NTU for the most, followed by NUS"
   ]
  },
  {
   "cell_type": "code",
   "execution_count": 36,
   "id": "aabe84a3",
   "metadata": {},
   "outputs": [
    {
     "data": {
      "text/plain": [
       "<AxesSubplot:title={'center':'Third Place'}, xlabel='third_place'>"
      ]
     },
     "execution_count": 36,
     "metadata": {},
     "output_type": "execute_result"
    },
    {
     "data": {
      "image/png": "[encoded data removed]",
      "text/plain": [
       "<Figure size 432x288 with 1 Axes>"
      ]
     },
     "metadata": {
      "needs_background": "light"
     },
     "output_type": "display_data"
    }
   ],
   "source": [
    "tp_df = pd.DataFrame(third_place, columns = ['third_place'])\n",
    "third_place_dist = tp_df.groupby(tp_df['third_place'])\n",
    "third_place_dist.size().plot(kind='bar', title = 'Third Place')\n",
    "\n",
    "# Many people think that SMU would be the 3rd best university when it comes to IT, falling behind NUS and NTU"
   ]
  },
  {
   "cell_type": "code",
   "execution_count": 37,
   "id": "d6f6f73a",
   "metadata": {
    "scrolled": false
   },
   "outputs": [
    {
     "data": {
      "text/plain": [
       "<AxesSubplot:title={'center':'Last Place'}, xlabel='last_place'>"
      ]
     },
     "execution_count": 37,
     "metadata": {},
     "output_type": "execute_result"
    },
    {
     "data": {
      "image/png": "[encoded data removed]",
      "text/plain": [
       "<Figure size 432x288 with 1 Axes>"
      ]
     },
     "metadata": {
      "needs_background": "light"
     },
     "output_type": "display_data"
    }
   ],
   "source": [
    "lp_df = pd.DataFrame(last_place, columns = ['last_place'])\n",
    "last_place_dist = lp_df.groupby(lp_df['last_place'])\n",
    "last_place_dist.size().plot(kind='bar', title = 'Last Place')\n",
    "\n",
    "# SMU's SCIS offerings are renowned and well-liked enough not for it to be unfavourable in the rankings"
   ]
  },
  {
   "cell_type": "markdown",
   "id": "673decb9",
   "metadata": {},
   "source": [
    "## University Rankings Based on IT - Elaboration"
   ]
  },
  {
   "cell_type": "code",
   "execution_count": 62,
   "id": "febb2692",
   "metadata": {
    "scrolled": true
   },
   "outputs": [
    {
     "name": "stdout",
     "output_type": "stream",
     "text": [
      "[ 'smu has smaller group seminars',\n",
      "  'probably biased to smu  i felt that the newer universities have a better '\n",
      "  'ranking than the more established ones',\n",
      "  'i ranked based on the skills and knowledge acquired from each universities ',\n",
      "  'based on my own opinion of each of the school ']\n"
     ]
    }
   ],
   "source": [
    "## UNCOMMENT BELOW WHEN RESTARTING AND RUNNING KERNEL FROM SCRATCH\n",
    "uni_rankings = uni_rankings.join(fp_df['first_place'])\n",
    "uni_rankings = uni_rankings.join(sp_df['second_place'])\n",
    "uni_rankings = uni_rankings.join(tp_df['third_place'])\n",
    "uni_rankings = uni_rankings.join(lp_df['last_place'])\n",
    "\n",
    "import pprint\n",
    "pp = pprint.PrettyPrinter(indent=2)\n",
    "\n",
    "# For those that put SMU First - Why?\n",
    "is_smu_first = uni_rankings['first_place'] == \"Singapore Management University (SMU)\"\n",
    "smu_is_first = uni_rankings[is_smu_first]\n",
    "smu_is_first = smu_is_first[['Uni Ranking Elaboration', 'first_place']]\n",
    "#smu_is_first.head()\n",
    "\n",
    "why_first = []\n",
    "for entry in smu_is_first['Uni Ranking Elaboration']:\n",
    "    if len(entry.strip()) > 0:\n",
    "        why_first.append(entry)\n",
    "pp.pprint(why_first)\n",
    "\n",
    "# Very little opinions, but will be because of smaller group seminars, and it is newer.\n",
    "# The above are biased and not very useful"
   ]
  },
  {
   "cell_type": "code",
   "execution_count": 63,
   "id": "3cd3af3f",
   "metadata": {},
   "outputs": [
    {
     "name": "stdout",
     "output_type": "stream",
     "text": [
      "[ 'name   program',\n",
      "  'top paying it graduates come from nus and then followed by smu and then '\n",
      "  'ntu  the reason for sutd to be 4th is their expertise in cyber security  '\n",
      "  'the remaining are just my assumptions  not actually sure about their '\n",
      "  'ability to provide it programs ',\n",
      "  'im not sure abt suss and sit  nus generally performs better overall because '\n",
      "  'of its name and the competitiveness  ntu i didnt really hear much good '\n",
      "  'things and i dont regret coming to smu  sutd is 4 because of the general '\n",
      "  'courses they have to take in the first year  i wouldnt pay much interest '\n",
      "  'since',\n",
      "  'sutd has a more in depth syllabus while smu is less technical but mimics '\n",
      "  'real life scenarios more  sit is also well known for it s it course but the '\n",
      "  'trimester is too taxing on students  nus  syllabus is too academic based  '\n",
      "  'there is a lack of application   ntu and suss are not known for their it '\n",
      "  'courses',\n",
      "  'dependent on the variety of choices',\n",
      "  'i ranked based on in my opinion  the estimated expected starting salary of '\n",
      "  'each school',\n",
      "  'nus has no doubt the best opportunities as it is established compared to '\n",
      "  'the rest  smu number 2 because i m bias  the rest is purely based on my '\n",
      "  'impression ']\n"
     ]
    }
   ],
   "source": [
    "# For those that put SMU Second - Why?\n",
    "is_smu_second = uni_rankings['second_place'] == \"Singapore Management University (SMU)\"\n",
    "smu_is_second = uni_rankings[is_smu_second]\n",
    "smu_is_second = smu_is_second[['Uni Ranking Elaboration', 'second_place']]\n",
    "\n",
    "import pprint\n",
    "pp = pprint.PrettyPrinter(indent=2)\n",
    "\n",
    "why_second = []\n",
    "for entry in smu_is_second['Uni Ranking Elaboration']:\n",
    "    if len(entry.strip()) > 0:\n",
    "        why_second.append(entry)\n",
    "pp.pprint(why_second)\n",
    "\n",
    "# SMU SCIS mimics real-life scenarios\n",
    "# Estimated expected starting salary of each school"
   ]
  },
  {
   "cell_type": "code",
   "execution_count": 65,
   "id": "e63ee38a",
   "metadata": {},
   "outputs": [
    {
     "name": "stdout",
     "output_type": "stream",
     "text": [
      "[ 'ntu and nus students are more technically skilled',\n",
      "  'sutd has the most technical stuff according to word of mouth',\n",
      "  'top 3 universities',\n",
      "  'strong records and reputation',\n",
      "  'the number of courses available',\n",
      "  'aside from what is taught since opportunities is taken into consideration '\n",
      "  'then naturally the schools reputation would play apart in providing '\n",
      "  'students with better options and opportunities',\n",
      "  'nus is known to have the best and established uni in singpaore the rest is '\n",
      "  'just following suit their curicullum not developed and their experience is '\n",
      "  'important in developing good programs',\n",
      "  'in terms of technical skills  i believe nus and ntu are better  they teach '\n",
      "  'concepts like linked list in their curriculum  that aside  smu has a lot of '\n",
      "  'third party projects that put us ahead of the other schools ',\n",
      "  'nus and ntu are more technical and challenging  while smu is more business  '\n",
      "  'from the reputation of the universities  smu ranks higher than sit even '\n",
      "  'though sit is more techincal',\n",
      "  'i feel that the big 3 unis have the best and most prestigious computing '\n",
      "  'programs',\n",
      "  'school ranking',\n",
      "  'history  prestige and accolades of the schools']\n"
     ]
    }
   ],
   "source": [
    "# For those that put SMU Third - Why?\n",
    "is_smu_third = uni_rankings['third_place'] == \"Singapore Management University (SMU)\"\n",
    "smu_is_third = uni_rankings[is_smu_third]\n",
    "smu_is_third = smu_is_third[['Uni Ranking Elaboration', 'third_place']]\n",
    "\n",
    "import pprint\n",
    "pp = pprint.PrettyPrinter(indent=2)\n",
    "\n",
    "why_third = []\n",
    "for entry in smu_is_third['Uni Ranking Elaboration']:\n",
    "    if len(entry.strip()) > 0:\n",
    "        why_third.append(entry)\n",
    "pp.pprint(why_third)\n",
    "\n",
    "# NTU/NUS are more technically skilled\n",
    "# SMU is more business?\n",
    "# Big 3 = NUS, NTU, SMU have most prestigious computing programs"
   ]
  },
  {
   "cell_type": "code",
   "execution_count": 70,
   "id": "a9db4bec",
   "metadata": {},
   "outputs": [
    {
     "name": "stdout",
     "output_type": "stream",
     "text": [
      "[ 'name   program',\n",
      "  'nus confirm first la so vigorous  ntu quite old sch but hv reputation  sutd '\n",
      "  'heard is technically vigorous as well  more so than smu  sit and suss '\n",
      "  'randomly assigned cos idk',\n",
      "  'top 3 universities',\n",
      "  'ranked based on mod technicality  nus ntu most prestigious and has the '\n",
      "  'rigour and very technical  sit   sutd less technical but more than smu  smu '\n",
      "  's focus is not on technicality but more on business application  suss is a '\n",
      "  'self study uni',\n",
      "  'top paying it graduates come from nus and then followed by smu and then '\n",
      "  'ntu  the reason for sutd to be 4th is their expertise in cyber security  '\n",
      "  'the remaining are just my assumptions  not actually sure about their '\n",
      "  'ability to provide it programs ',\n",
      "  'strong records and reputation',\n",
      "  'the number of courses available',\n",
      "  'aside from what is taught since opportunities is taken into consideration '\n",
      "  'then naturally the schools reputation would play apart in providing '\n",
      "  'students with better options and opportunities',\n",
      "  'im not sure abt suss and sit  nus generally performs better overall because '\n",
      "  'of its name and the competitiveness  ntu i didnt really hear much good '\n",
      "  'things and i dont regret coming to smu  sutd is 4 because of the general '\n",
      "  'courses they have to take in the first year  i wouldnt pay much interest '\n",
      "  'since',\n",
      "  'smu is more a management school  but other schools that were ranked before '\n",
      "  'that learn more technical skills related to it',\n",
      "  'nus is known to have the best and established uni in singpaore the rest is '\n",
      "  'just following suit their curicullum not developed and their experience is '\n",
      "  'important in developing good programs',\n",
      "  'dependent on the variety of choices',\n",
      "  'in terms of technical skills  i believe nus and ntu are better  they teach '\n",
      "  'concepts like linked list in their curriculum  that aside  smu has a lot of '\n",
      "  'third party projects that put us ahead of the other schools ',\n",
      "  'i ranked based on in my opinion  the estimated expected starting salary of '\n",
      "  'each school',\n",
      "  'nus and ntu are more technical and challenging  while smu is more business  '\n",
      "  'from the reputation of the universities  smu ranks higher than sit even '\n",
      "  'though sit is more techincal',\n",
      "  'from what i hear from others',\n",
      "  'nus has no doubt the best opportunities as it is established compared to '\n",
      "  'the rest  smu number 2 because i m bias  the rest is purely based on my '\n",
      "  'impression ',\n",
      "  'i feel that the big 3 unis have the best and most prestigious computing '\n",
      "  'programs',\n",
      "  'school ranking',\n",
      "  'history  prestige and accolades of the schools']\n"
     ]
    }
   ],
   "source": [
    "# For those that put NUS First - Why?\n",
    "is_nus_first = uni_rankings['first_place'] == \"National University of Singapore (NUS)\"\n",
    "nus_is_first = uni_rankings[is_nus_first]\n",
    "nus_is_first = nus_is_first[['Uni Ranking Elaboration', 'first_place']]\n",
    "nus_is_first.head()\n",
    "\n",
    "import pprint\n",
    "pp = pprint.PrettyPrinter(indent=2)\n",
    "\n",
    "why_nus = []\n",
    "for entry in nus_is_first['Uni Ranking Elaboration']:\n",
    "    if len(entry.strip()) > 0:\n",
    "        why_nus.append(entry)\n",
    "pp.pprint(why_nus)\n",
    "\n",
    "# Vigorous\n",
    "# Mod Technicality, most Prestigious, Most Rigour, SMU's focus is not on technicality, but Biz Application\n",
    "# Top-Paying Graduates -> Money is impt even without GES!\n",
    "# SMU is more of a management school"
   ]
  },
  {
   "cell_type": "markdown",
   "id": "143670f6",
   "metadata": {},
   "source": [
    "## University IT Course Rankings"
   ]
  },
  {
   "cell_type": "code",
   "execution_count": 71,
   "id": "7916020f",
   "metadata": {},
   "outputs": [
    {
     "data": {
      "text/html": [
       "<div>\n",
       "<style scoped>\n",
       "    .dataframe tbody tr th:only-of-type {\n",
       "        vertical-align: middle;\n",
       "    }\n",
       "\n",
       "    .dataframe tbody tr th {\n",
       "        vertical-align: top;\n",
       "    }\n",
       "\n",
       "    .dataframe thead th {\n",
       "        text-align: right;\n",
       "    }\n",
       "</style>\n",
       "<table border=\"1\" class=\"dataframe\">\n",
       "  <thead>\n",
       "    <tr style=\"text-align: right;\">\n",
       "      <th></th>\n",
       "      <th>In terms of IT, rank the following according to their offerings of the best courses / opportunities / expertise in this sector.</th>\n",
       "      <th>Uni Ranking Elaboration</th>\n",
       "      <th>first_place</th>\n",
       "      <th>second_place</th>\n",
       "      <th>third_place</th>\n",
       "      <th>last_place</th>\n",
       "      <th>Course Ranking Elaboration</th>\n",
       "    </tr>\n",
       "  </thead>\n",
       "  <tbody>\n",
       "    <tr>\n",
       "      <th>0</th>\n",
       "      <td>National University of Singapore (NUS), Singap...</td>\n",
       "      <td></td>\n",
       "      <td>National University of Singapore (NUS)</td>\n",
       "      <td>Singapore Management University (SMU)</td>\n",
       "      <td>Nanyang Technological University (NTU)</td>\n",
       "      <td>Singapore University of Social Sciences</td>\n",
       "      <td></td>\n",
       "    </tr>\n",
       "    <tr>\n",
       "      <th>1</th>\n",
       "      <td>National University of Singapore (NUS), Singap...</td>\n",
       "      <td>name   program</td>\n",
       "      <td>National University of Singapore (NUS)</td>\n",
       "      <td>Singapore Management University (SMU)</td>\n",
       "      <td>Nanyang Technological University (NTU)</td>\n",
       "      <td>Singapore University of Social Sciences</td>\n",
       "      <td>rep and igp</td>\n",
       "    </tr>\n",
       "    <tr>\n",
       "      <th>2</th>\n",
       "      <td>National University of Singapore (NUS), Nanyan...</td>\n",
       "      <td>nus confirm first la so vigorous  ntu quite ol...</td>\n",
       "      <td>National University of Singapore (NUS)</td>\n",
       "      <td>Nanyang Technological University (NTU)</td>\n",
       "      <td>Singapore University of Technology and Design ...</td>\n",
       "      <td>Singapore University of Social Sciences</td>\n",
       "      <td>by feel</td>\n",
       "    </tr>\n",
       "    <tr>\n",
       "      <th>3</th>\n",
       "      <td>Nanyang Technological University (NTU), Nation...</td>\n",
       "      <td>ntu and nus students are more technically skilled</td>\n",
       "      <td>Nanyang Technological University (NTU)</td>\n",
       "      <td>National University of Singapore (NUS)</td>\n",
       "      <td>Singapore Management University (SMU)</td>\n",
       "      <td>Singapore University of Social Sciences</td>\n",
       "      <td></td>\n",
       "    </tr>\n",
       "    <tr>\n",
       "      <th>4</th>\n",
       "      <td>Singapore Management University (SMU), Nationa...</td>\n",
       "      <td>smu has smaller group seminars</td>\n",
       "      <td>Singapore Management University (SMU)</td>\n",
       "      <td>National University of Singapore (NUS)</td>\n",
       "      <td>Nanyang Technological University (NTU)</td>\n",
       "      <td>Singapore University of Social Sciences</td>\n",
       "      <td>smu provides out of classroom opportunities</td>\n",
       "    </tr>\n",
       "  </tbody>\n",
       "</table>\n",
       "</div>"
      ],
      "text/plain": [
       "  In terms of IT, rank the following according to their offerings of the best courses / opportunities / expertise in this sector.  \\\n",
       "0  National University of Singapore (NUS), Singap...                                                                                \n",
       "1  National University of Singapore (NUS), Singap...                                                                                \n",
       "2  National University of Singapore (NUS), Nanyan...                                                                                \n",
       "3  Nanyang Technological University (NTU), Nation...                                                                                \n",
       "4  Singapore Management University (SMU), Nationa...                                                                                \n",
       "\n",
       "                             Uni Ranking Elaboration  \\\n",
       "0                                                      \n",
       "1                                     name   program   \n",
       "2  nus confirm first la so vigorous  ntu quite ol...   \n",
       "3  ntu and nus students are more technically skilled   \n",
       "4                     smu has smaller group seminars   \n",
       "\n",
       "                              first_place  \\\n",
       "0  National University of Singapore (NUS)   \n",
       "1  National University of Singapore (NUS)   \n",
       "2  National University of Singapore (NUS)   \n",
       "3  Nanyang Technological University (NTU)   \n",
       "4   Singapore Management University (SMU)   \n",
       "\n",
       "                             second_place  \\\n",
       "0   Singapore Management University (SMU)   \n",
       "1   Singapore Management University (SMU)   \n",
       "2  Nanyang Technological University (NTU)   \n",
       "3  National University of Singapore (NUS)   \n",
       "4  National University of Singapore (NUS)   \n",
       "\n",
       "                                         third_place  \\\n",
       "0             Nanyang Technological University (NTU)   \n",
       "1             Nanyang Technological University (NTU)   \n",
       "2  Singapore University of Technology and Design ...   \n",
       "3              Singapore Management University (SMU)   \n",
       "4             Nanyang Technological University (NTU)   \n",
       "\n",
       "                                 last_place  \\\n",
       "0  Singapore University of Social Sciences    \n",
       "1  Singapore University of Social Sciences    \n",
       "2  Singapore University of Social Sciences    \n",
       "3  Singapore University of Social Sciences    \n",
       "4  Singapore University of Social Sciences    \n",
       "\n",
       "                    Course Ranking Elaboration  \n",
       "0                                               \n",
       "1                                  rep and igp  \n",
       "2                                      by feel  \n",
       "3                                               \n",
       "4  smu provides out of classroom opportunities  "
      ]
     },
     "execution_count": 71,
     "metadata": {},
     "output_type": "execute_result"
    }
   ],
   "source": [
    "# Based on all respondents of survey\n",
    "course_rankings = pd.DataFrame(noe_qn['Rank the following IT courses offered by the universities'])\n",
    "course_rankings = course_rankings.join(oe_qn['Course Ranking Elaboration'])\n",
    "course_rankings.head()"
   ]
  },
  {
   "cell_type": "markdown",
   "id": "bbab509f",
   "metadata": {},
   "source": [
    "## University IT Course Rankings - Elaboration"
   ]
  },
  {
   "cell_type": "code",
   "execution_count": null,
   "id": "8d51dc79",
   "metadata": {},
   "outputs": [],
   "source": []
  }
 ],
 "metadata": {
  "kernelspec": {
   "display_name": "Python 3",
   "language": "python",
   "name": "python3"
  },
  "language_info": {
   "codemirror_mode": {
    "name": "ipython",
    "version": 3
   },
   "file_extension": ".py",
   "mimetype": "text/x-python",
   "name": "python",
   "nbconvert_exporter": "python",
   "pygments_lexer": "ipython3",
   "version": "3.8.8"
  }
 },
 "nbformat": 4,
 "nbformat_minor": 5
}
