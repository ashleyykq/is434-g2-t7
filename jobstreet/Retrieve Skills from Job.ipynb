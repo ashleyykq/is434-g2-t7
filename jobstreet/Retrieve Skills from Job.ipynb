{
 "cells": [
  {
   "cell_type": "code",
   "execution_count": 62,
   "metadata": {},
   "outputs": [],
   "source": [
    "# !pip install textblob"
   ]
  },
  {
   "cell_type": "code",
   "execution_count": 63,
   "metadata": {},
   "outputs": [],
   "source": [
    "import pandas as pd \n",
    "import numpy as np\n",
    "import matplotlib.pyplot as plt"
   ]
  },
  {
   "cell_type": "code",
   "execution_count": 64,
   "metadata": {},
   "outputs": [],
   "source": [
    "pd.set_option('display.max_colwidth', None) #prevent truncated view of dataframe\n",
    "pd.set_option('display.max_rows', None) #show all rows"
   ]
  },
  {
   "cell_type": "code",
   "execution_count": 78,
   "metadata": {},
   "outputs": [],
   "source": [
    "pd.options.display.max_rows = None"
   ]
  },
  {
   "cell_type": "code",
   "execution_count": 65,
   "metadata": {},
   "outputs": [],
   "source": [
    "df = pd.read_csv(\"clean_all_job_data.csv\")"
   ]
  },
  {
   "cell_type": "code",
   "execution_count": 66,
   "metadata": {},
   "outputs": [],
   "source": [
    "df = df.drop(df.columns[0:2], axis=1)"
   ]
  },
  {
   "cell_type": "code",
   "execution_count": 67,
   "metadata": {},
   "outputs": [
    {
     "name": "stdout",
     "output_type": "stream",
     "text": [
      "<class 'pandas.core.frame.DataFrame'>\n",
      "RangeIndex: 2555 entries, 0 to 2554\n",
      "Data columns (total 39 columns):\n",
      " #   Column                             Non-Null Count  Dtype  \n",
      "---  ------                             --------------  -----  \n",
      " 0   keyword                            2555 non-null   object \n",
      " 1   link                               2555 non-null   object \n",
      " 2   job_id                             2555 non-null   int64  \n",
      " 3   job_title                          2555 non-null   object \n",
      " 4   job_expired                        2555 non-null   bool   \n",
      " 5   job_confidential                   2555 non-null   bool   \n",
      " 6   job_salary_min                     578 non-null    float64\n",
      " 7   job_salary_max                     578 non-null    float64\n",
      " 8   job_salary_currency                2423 non-null   object \n",
      " 9   company                            2539 non-null   object \n",
      " 10  job_post_date                      2555 non-null   object \n",
      " 11  job_internship                     2555 non-null   bool   \n",
      " 12  company_website                    0 non-null      float64\n",
      " 13  company_avgProcessTime             1609 non-null   object \n",
      " 14  company_registrationNo             2518 non-null   object \n",
      " 15  company_workingHours               0 non-null      float64\n",
      " 16  company_facebook                   0 non-null      float64\n",
      " 17  company_size                       2512 non-null   object \n",
      " 18  company_dressCode                  0 non-null      float64\n",
      " 19  company_nearbyLocations            799 non-null    object \n",
      " 20  company_overview                   2543 non-null   object \n",
      " 21  job_description                    2555 non-null   object \n",
      " 22  job_summary                        2555 non-null   object \n",
      " 23  job_requirement_career_level       2555 non-null   object \n",
      " 24  job_requirement_fieldOfStudy       0 non-null      float64\n",
      " 25  job_requirement_yearsOfExperience  2312 non-null   object \n",
      " 26  job_requirement_qualification      2552 non-null   object \n",
      " 27  job_requirement_skill              0 non-null      float64\n",
      " 28  job_employment_type                2518 non-null   object \n",
      " 29  job_languages                      0 non-null      float64\n",
      " 30  job_benefits                       2555 non-null   object \n",
      " 31  job_apply_url                      2555 non-null   object \n",
      " 32  job_location_zipcode               2555 non-null   int64  \n",
      " 33  job_location                       2555 non-null   object \n",
      " 34  job_country                        2555 non-null   object \n",
      " 35  clean_job_title                    2554 non-null   object \n",
      " 36  clean_job_desc                     2555 non-null   object \n",
      " 37  job_desc_only                      2543 non-null   object \n",
      " 38  job_req_only                       1504 non-null   object \n",
      "dtypes: bool(3), float64(9), int64(2), object(25)\n",
      "memory usage: 726.2+ KB\n"
     ]
    }
   ],
   "source": [
    "df.info()"
   ]
  },
  {
   "cell_type": "code",
   "execution_count": 68,
   "metadata": {},
   "outputs": [],
   "source": [
    "from sklearn.naive_bayes import MultinomialNB\n",
    "from sklearn.feature_extraction.text import TfidfVectorizer\n",
    "from sklearn.model_selection import train_test_split\n",
    "from sklearn.metrics import accuracy_score, classification_report, confusion_matrix"
   ]
  },
  {
   "cell_type": "code",
   "execution_count": 90,
   "metadata": {},
   "outputs": [],
   "source": [
    "vectorizer = TfidfVectorizer(ngram_range=(1,3)) #unigram to trigram\n",
    "#Tokenize and build vocabulary\n",
    "X = vectorizer.fit_transform(df.clean_job_desc)\n",
    "y = df.keyword"
   ]
  },
  {
   "cell_type": "code",
   "execution_count": 91,
   "metadata": {},
   "outputs": [
    {
     "name": "stdout",
     "output_type": "stream",
     "text": [
      "train data shape:  (2044, 455591)\n",
      "test data shape:  (511, 455591)\n"
     ]
    }
   ],
   "source": [
    "X_train, X_test, y_train, y_test = train_test_split(X, y, test_size=0.2,random_state=109) \n",
    "print(\"train data shape: \",X_train.shape)\n",
    "print(\"test data shape: \",X_test.shape)"
   ]
  },
  {
   "cell_type": "code",
   "execution_count": 92,
   "metadata": {},
   "outputs": [
    {
     "data": {
      "text/plain": [
       "<matplotlib.axes._subplots.AxesSubplot at 0x1f00b7e5208>"
      ]
     },
     "execution_count": 92,
     "metadata": {},
     "output_type": "execute_result"
    },
    {
     "data": {
      "image/png": "[encoded data removed]",
      "text/plain": [
       "<Figure size 432x288 with 1 Axes>"
      ]
     },
     "metadata": {
      "needs_background": "light"
     },
     "output_type": "display_data"
    }
   ],
   "source": [
    "bar_df = pd.merge(y_test.value_counts(),y_train.value_counts(),left_index=True, right_index=True)\n",
    "bar_df = bar_df.rename(columns={\"keyword_x\": \"test\", \"keyword_y\": \"train\"})\n",
    "\n",
    "bar_df.plot.bar()"
   ]
  },
  {
   "cell_type": "code",
   "execution_count": 93,
   "metadata": {},
   "outputs": [],
   "source": [
    "clf = MultinomialNB()\n",
    "clf.fit(X_train, y_train)\n",
    "\n",
    "y_predicted = clf.predict(X_test)"
   ]
  },
  {
   "cell_type": "code",
   "execution_count": 94,
   "metadata": {},
   "outputs": [
    {
     "name": "stdout",
     "output_type": "stream",
     "text": [
      "Accuracy score is:  0.821917808219178\n",
      "Classes: (to help read Confusion Matrix)\n",
      " ['cloud engineer' 'computer research' 'data analyst' 'data scientist'\n",
      " 'software engineer']\n",
      "Confusion Matrix: \n",
      "[[106   0   1   0   2]\n",
      " [  0  96   3   0   6]\n",
      " [  9   0 117   0   5]\n",
      " [  3  17  19  15   2]\n",
      " [ 19   1   4   0  86]]\n",
      "Classification Report: \n",
      "                   precision    recall  f1-score   support\n",
      "\n",
      "   cloud engineer       0.77      0.97      0.86       109\n",
      "computer research       0.84      0.91      0.88       105\n",
      "     data analyst       0.81      0.89      0.85       131\n",
      "   data scientist       1.00      0.27      0.42        56\n",
      "software engineer       0.85      0.78      0.82       110\n",
      "\n",
      "         accuracy                           0.82       511\n",
      "        macro avg       0.86      0.77      0.77       511\n",
      "     weighted avg       0.84      0.82      0.80       511\n",
      "\n"
     ]
    }
   ],
   "source": [
    "print(\"Accuracy score is: \",accuracy_score(y_test, y_predicted))\n",
    "print(\"Classes: (to help read Confusion Matrix)\\n\", clf.classes_)\n",
    "print(\"Confusion Matrix: \")\n",
    "\n",
    "print(confusion_matrix(y_test, y_predicted))\n",
    "print(\"Classification Report: \")\n",
    "print(classification_report(y_test, y_predicted))"
   ]
  },
  {
   "cell_type": "code",
   "execution_count": 95,
   "metadata": {},
   "outputs": [
    {
     "name": "stdout",
     "output_type": "stream",
     "text": [
      "[[-13.05368284 -13.05368284 -13.05368284 ... -13.05368284 -13.05368284\n",
      "  -13.05368284]\n",
      " [-13.04561327 -13.04561327 -13.04561327 ... -13.04561327 -13.04561327\n",
      "  -13.04561327]\n",
      " [-13.05020236 -13.05020236 -13.05020236 ... -13.05020236 -13.05020236\n",
      "  -13.05020236]\n",
      " [-13.04076826 -13.04076826 -13.04076826 ... -13.04076826 -13.04076826\n",
      "  -13.04076826]\n",
      " [-12.97899803 -12.97899803 -12.97899803 ... -12.95563253 -12.95563253\n",
      "  -12.95563253]]\n",
      "(5, 455591)\n"
     ]
    },
    {
     "name": "stderr",
     "output_type": "stream",
     "text": [
      "C:\\Users\\teo-e\\Anaconda3\\lib\\site-packages\\sklearn\\utils\\deprecation.py:101: FutureWarning: Attribute coef_ was deprecated in version 0.24 and will be removed in 1.1 (renaming of 0.26).\n",
      "  warnings.warn(msg, category=FutureWarning)\n"
     ]
    }
   ],
   "source": [
    "print(clf.coef_)\n",
    "print(clf.coef_.shape)"
   ]
  },
  {
   "cell_type": "code",
   "execution_count": 99,
   "metadata": {},
   "outputs": [
    {
     "name": "stdout",
     "output_type": "stream",
     "text": [
      "\n",
      "**** cloud engineer ****\n",
      "\n",
      "list of unprocessed skills :\n",
      "cloud, infrastructure, security, service, technology, system, solution, aws, team, devops, operation, amp, application, management, business, support, environment, azure, tool, technical, \n",
      "####################\n",
      "list of programming language\n",
      "python, linux, react, mysql, tableau, django, spark, hadoop, javascript, scala, sql, java, ruby, numpy, ai, php, \n",
      "####################\n",
      "Top adjectives: \n",
      "cloud, team, technical, linux, process, incident, operational, microsoft, best, understanding, continuous, responsible, ansible, architect, advantage, professional, least, cloud, lead, implement, \n",
      "**** computer research ****\n",
      "\n",
      "list of unprocessed skills :\n",
      "research, computer, learning, engineering, science, computer science, machine, machine learning, ai, position, invite application, application position, invite, invite application position, project, candidate, science engineering, system, data, application, \n",
      "####################\n",
      "list of programming language\n",
      "python, linux, ui, django, react, tableau, tensorflow, spark, javascript, sql, java, ruby, numpy, ai, reactjs, pytorch, php, \n",
      "####################\n",
      "Top adjectives: \n",
      "ai, invite, invite, invite, electrical, algorithm, deep, nu, iot, relevant, scse, electrical, electronic, invite, invite, invite, journal, top, electronic, graph, \n",
      "**** data analyst ****\n",
      "\n",
      "list of unprocessed skills :\n",
      "data, business, management, team, analysis, process, project, analytics, stakeholder, amp, system, support, solution, user, reporting, analytical, analyst, report, tool, information, \n",
      "####################\n",
      "list of programming language\n",
      "ui, spark, flask, java, pytorch, linux, react, javascript, ruby, tableau, scala, python, django, mysql, tensorflow, hadoop, sql, ai, reactjs, php, \n",
      "####################\n",
      "Top adjectives: \n",
      "analytical, financial, apply, able, personal, degree, ea, technical, personal, internal, functional, tableau, ltd, responsible, big, excellent, least, etc, assist, statistical, \n",
      "**** data scientist ****\n",
      "\n",
      "list of unprocessed skills :\n",
      "data, research, learning, criterion, machine, scientist, team, may, machine learning, policy, science, time, development, analytics, molecular, project, biology, product, business, technology, \n",
      "####################\n",
      "list of programming language\n",
      "python, linux, tableau, mysql, react, ui, spark, tensorflow, hadoop, javascript, scala, sql, java, ruby, numpy, ai, pytorch, flask, \n",
      "####################\n",
      "Top adjectives: \n",
      "molecular, molecular, technical, scientific, phd, exhaustive, selection, recruitment, exhaustive, exhaustive, exhaustive, notice, prevailing, notice, notice, exhaustive, prevailing, recruitment, prevailing, exhaustive, \n",
      "**** software engineer ****\n",
      "\n",
      "list of unprocessed skills :\n",
      "software, development, design, test, application, system, web, team, testing, net, amp, product, code, technology, programming, project, software development, java, develop, user, \n",
      "####################\n",
      "list of programming language\n",
      "ui, spark, java, mongdb, linux, react, javascript, ruby, tableau, scala, python, django, mysql, hadoop, sql, php, ai, reactjs, flask, \n",
      "####################\n",
      "Top adjectives: \n",
      "web, net, amp, user, technical, ea, familiar, personal, least, able, understanding, full, personal, high, html, implementation, maintain, participate, responsible, functional, "
     ]
    }
   ],
   "source": [
    "from textblob import TextBlob\n",
    "technical_skills = ['python', 'c','r', 'c++','java','hadoop','scala','flask','pandas','spark','scikit-learn',\n",
    "                    'numpy','php','sql','mysql','css','mongdb','nltk','fastai' , 'keras', 'pytorch','tensorflow',\n",
    "                   'linux','ruby','javascript','django','react','reactjs','ai','ui','tableau']\n",
    "feature_array = vectorizer.get_feature_names()\n",
    "# number of overall model features\n",
    "features_numbers = len(feature_array)\n",
    "## max sorted features number\n",
    "n_max = int(features_numbers * 0.1)\n",
    "\n",
    "##initialize output dataframe\n",
    "output = pd.DataFrame()\n",
    "for i in range(0,len(clf.classes_)):\n",
    "    print(\"\\n****\" ,clf.classes_[i],\"****\\n\")\n",
    "    class_prob_indices_sorted = clf.feature_log_prob_[i, :].argsort()[::-1]\n",
    "    raw_skills = np.take(feature_array, class_prob_indices_sorted[:n_max])\n",
    "    print(\"list of unprocessed skills :\")\n",
    "    [print(x, end=\", \") for x in raw_skills[:20]] \n",
    "    print()\n",
    "    print(\"#\"*20)\n",
    "    \n",
    "    ## Extract technical skills\n",
    "    top_technical_skills= list(set(technical_skills).intersection(raw_skills))\n",
    "    #print(\"Top technical skills\",top_technical_skills)\n",
    "    print(\"list of programming language\")\n",
    "    [print(x, end=\", \") for x in top_technical_skills[:20]]\n",
    "    print()\n",
    "    print(\"#\"*20)\n",
    "    \n",
    "    ## Extract adjectives\n",
    "    \n",
    "    # Delete technical skills from raw skills list\n",
    "    ## At this steps, raw skills list doesnt contain the technical skills\n",
    "    #raw_skills = [x for x in raw_skills if x not in top_technical_skills]\n",
    "    #raw_skills = list(set(raw_skills) - set(top_technical_skills))\n",
    "\n",
    "    # transform list to string\n",
    "    txt = \" \".join(raw_skills)\n",
    "    blob = TextBlob(txt)\n",
    "    #top 6 adjective\n",
    "    top_adjectives = [w for (w, pos) in TextBlob(txt).pos_tags if pos.startswith(\"JJ\")]\n",
    "    print(\"Top adjectives: \")\n",
    "    [print(x, end=\", \") for x in top_adjectives[:20]]\n",
    "    print()\n",
    "    print(\"#\"*20)\n",
    "    print()\n",
    "    \n",
    "    output = output.append({'job_title':clf.classes_[i],\n",
    "                        'raw_skills' : raw_skills,\n",
    "                        'technical_skills':top_technical_skills,\n",
    "                        'soft_skills':top_adjectives },\n",
    "                       ignore_index=True)"
   ]
  },
  {
   "cell_type": "code",
   "execution_count": 158,
   "metadata": {},
   "outputs": [
    {
     "data": {
      "text/plain": [
       "[('description', 'NN'),\n",
       " ('position', 'NN'),\n",
       " ('suitable', 'JJ'),\n",
       " ('individual', 'JJ'),\n",
       " ('constant', 'JJ'),\n",
       " ('learner', 'NN'),\n",
       " ('problem', 'NN'),\n",
       " ('solver', 'NN'),\n",
       " ('multi', 'NN'),\n",
       " ('taskers', 'NNS'),\n",
       " ('candidate', 'VBP'),\n",
       " ('thrive', 'JJ'),\n",
       " ('fast', 'NN'),\n",
       " ('paced', 'VBD'),\n",
       " ('environment', 'NN'),\n",
       " ('step', 'NN'),\n",
       " ('face', 'NN'),\n",
       " ('challenge', 'VBP'),\n",
       " ('able', 'JJ'),\n",
       " ('deliver', 'NN'),\n",
       " ('result', 'NN'),\n",
       " ('welcome', 'VBP'),\n",
       " ('apply', 'NN'),\n",
       " ('looking', 'VBG'),\n",
       " ('candidate', 'NN'),\n",
       " ('interested', 'JJ'),\n",
       " ('implementation', 'NN'),\n",
       " ('operation', 'NN'),\n",
       " ('cloud', 'JJ'),\n",
       " ('infrastructure', 'NN'),\n",
       " ('responsible', 'JJ'),\n",
       " ('implementing', 'VBG'),\n",
       " ('maintaining', 'JJ'),\n",
       " ('cloud', 'JJ'),\n",
       " ('infrastructure', 'NN'),\n",
       " ('aws', 'VBZ'),\n",
       " ('azure', 'JJ'),\n",
       " ('google', 'NN'),\n",
       " ('cloud', 'NN'),\n",
       " ('xtremax', 'NNP'),\n",
       " ('customer', 'NN'),\n",
       " ('provide', 'NN'),\n",
       " ('support', 'NN'),\n",
       " ('customer', 'NN'),\n",
       " ('issue', 'NN'),\n",
       " ('cloud', 'NN'),\n",
       " ('infrastructure', 'NN'),\n",
       " ('closely', 'RB'),\n",
       " ('security', 'NN'),\n",
       " ('monitor', 'NN'),\n",
       " ('privacy', 'NN'),\n",
       " ('develop', 'VB'),\n",
       " ('incident', 'JJ'),\n",
       " ('response', 'NN'),\n",
       " ('procedure', 'NN'),\n",
       " ('least', 'JJS'),\n",
       " ('year', 'NN'),\n",
       " ('hand', 'NN'),\n",
       " ('managing', 'VBG'),\n",
       " ('network', 'NN'),\n",
       " ('infrastructure', 'NN'),\n",
       " ('managed', 'VBD'),\n",
       " ('service', 'NN'),\n",
       " ('aws', 'NNS'),\n",
       " ('azure', 'VBP'),\n",
       " ('gcp', 'JJ'),\n",
       " ('least', 'JJS'),\n",
       " ('one', 'CD'),\n",
       " ('cloud', 'JJ'),\n",
       " ('certification', 'NN'),\n",
       " ('level', 'NN'),\n",
       " ('higher', 'JJR'),\n",
       " ('e', 'NN'),\n",
       " ('g', 'NNS'),\n",
       " ('aws', 'VBP'),\n",
       " ('certified', 'JJ'),\n",
       " ('sysops', 'NNS'),\n",
       " ('administrator', 'NN'),\n",
       " ('associate', 'VBP'),\n",
       " ('microsoft', 'NNS'),\n",
       " ('certified', 'VBN'),\n",
       " ('azure', 'JJ'),\n",
       " ('administrator', 'NN'),\n",
       " ('associate', 'JJ'),\n",
       " ('google', 'NN'),\n",
       " ('cloud', 'NN'),\n",
       " ('certified', 'VBD'),\n",
       " ('professional', 'JJ'),\n",
       " ('data', 'NNS'),\n",
       " ('engineer', 'NN'),\n",
       " ('least', 'JJS'),\n",
       " ('one', 'CD'),\n",
       " ('operating', 'NN'),\n",
       " ('system', 'NN'),\n",
       " ('linux', 'VBZ'),\n",
       " ('window', 'JJ'),\n",
       " ('understanding', 'VBG'),\n",
       " ('networking', 'VBG'),\n",
       " ('preferable', 'JJ'),\n",
       " ('tcp', 'NN'),\n",
       " ('ip', 'NN'),\n",
       " ('ip', 'NN'),\n",
       " ('address', 'NN'),\n",
       " ('http', 'NN'),\n",
       " ('dns', 'NN'),\n",
       " ('basic', 'JJ'),\n",
       " ('security', 'NN'),\n",
       " ('concept', 'NN'),\n",
       " ('user', 'NN'),\n",
       " ('management', 'NN'),\n",
       " ('o', 'IN'),\n",
       " ('hardening', 'VBG'),\n",
       " ('communication', 'NN'),\n",
       " ('scripting', 'VBG'),\n",
       " ('skill', 'NN'),\n",
       " ('powershell', 'VB'),\n",
       " ('bash', 'JJ'),\n",
       " ('python', 'NN'),\n",
       " ('nodejs', 'NN'),\n",
       " ('etc', 'FW'),\n",
       " ('extra', 'JJ'),\n",
       " ('value', 'NN'),\n",
       " ('submitting', 'VBG'),\n",
       " ('resume', 'JJ'),\n",
       " ('cv', 'JJ'),\n",
       " ('consent', 'NN'),\n",
       " ('agree', 'VB'),\n",
       " ('allow', 'JJ'),\n",
       " ('information', 'NN'),\n",
       " ('provided', 'VBD'),\n",
       " ('used', 'VBN'),\n",
       " ('processed', 'JJ'),\n",
       " ('behalf', 'NN'),\n",
       " ('xtremax', 'NNP'),\n",
       " ('pte', 'NN'),\n",
       " ('ltd', 'NN'),\n",
       " ('purpose', 'JJ'),\n",
       " ('registration', 'NN'),\n",
       " ('interest', 'NN'),\n",
       " ('current', 'JJ'),\n",
       " ('future', 'JJ'),\n",
       " ('employment', 'NN'),\n",
       " ('u', 'JJ'),\n",
       " ('processing', 'NN'),\n",
       " ('application', 'NN'),\n",
       " ('employment', 'NN'),\n",
       " ('personal', 'JJ'),\n",
       " ('data', 'NNS'),\n",
       " ('held', 'VBD'),\n",
       " ('u', 'JJ'),\n",
       " ('relating', 'VBG'),\n",
       " ('application', 'NN'),\n",
       " ('kept', 'VBD'),\n",
       " ('strictly', 'RB'),\n",
       " ('confidential', 'JJ'),\n",
       " ('accordance', 'NN'),\n",
       " ('pdpa', 'NN'),\n",
       " ('may', 'MD'),\n",
       " ('also', 'RB'),\n",
       " ('refer', 'VB'),\n",
       " ('privacy', 'NN'),\n",
       " ('policy', 'NN'),\n",
       " ('detail', 'NN'),\n",
       " ('http', 'NN'),\n",
       " ('www', 'NN'),\n",
       " ('xtremax', 'NNP'),\n",
       " ('com', 'NN'),\n",
       " ('privacy', 'NN'),\n",
       " ('policy', 'NN'),\n",
       " ('inform', 'NN'),\n",
       " ('consent', 'NN'),\n",
       " ('providing', 'VBG'),\n",
       " ('necessary', 'JJ'),\n",
       " ('data', 'NNS'),\n",
       " ('required', 'VBN'),\n",
       " ('u', 'JJ'),\n",
       " ('process', 'NN'),\n",
       " ('application', 'NN'),\n",
       " ('potentially', 'RB'),\n",
       " ('able', 'JJ'),\n",
       " ('offer', 'NN')]"
      ]
     },
     "execution_count": 158,
     "metadata": {},
     "output_type": "execute_result"
    }
   ],
   "source": [
    "TextBlob(\"description position suitable individual constant learner problem solver multi taskers candidate thrive fast paced environment step face challenge able deliver result welcome apply looking candidate interested implementation operation cloud infrastructure responsible implementing maintaining cloud infrastructure aws azure google cloud xtremax customer provide support customer issue cloud infrastructure closely security monitor privacy develop incident response procedure least year hand managing network infrastructure managed service aws azure gcp least one cloud certification level higher e g aws certified sysops administrator associate microsoft certified azure administrator associate google cloud certified professional data engineer least one operating system linux window understanding networking preferable tcp ip ip address http dns basic security concept user management o hardening communication scripting skill powershell bash python nodejs etc extra value submitting resume cv consent agree allow information provided used processed behalf xtremax pte ltd purpose registration interest current future employment u processing application employment personal data held u relating application kept strictly confidential accordance pdpa may also refer privacy policy detail http www xtremax com privacy policy inform consent providing necessary data required u process application potentially able offer\").pos_tags"
   ]
  },
  {
   "cell_type": "code",
   "execution_count": 97,
   "metadata": {},
   "outputs": [
    {
     "name": "stdout",
     "output_type": "stream",
     "text": [
      "                                                                                                                                                                                                                                                                                                                                                                                                                                                                                                                                                                                                                                                                                                                                                                                                                                                                                                                                                                                                                                                  0  \\\n",
      "job_title                                                                                                                                                                                                                                                                                                                                                                                                                                                                                                                                                                                                                                                                                                                                                                                                                                                                                                                                                                                                                            cloud engineer   \n",
      "raw_skills        [cloud, infrastructure, security, service, technology, system, solution, aws, team, devops, operation, amp, application, management, business, support, environment, azure, tool, technical, platform, network, development, architecture, automation, deployment, salesforce, monitoring, customer, engineer, server, manage, design, ci, linux, year, software, delivery, cloud infrastructure, working, cd, configuration, ci cd, data, etc, process, pipeline, code, hand, project, kubernetes, incident, bank, operational, integration, group, ability, certification, enterprise, provide, networking, engineering, using, microsoft, best, understanding, level, including, practice, implementation, container, scripting, administration, build, docker, com, continuous, role, problem, apply, responsible, performance, issue, ansible, maintain, architect, product, develop, ensure, advantage, government, ea, window, control, information, professional, compliance, like, cloud platform, troubleshooting, ...]   \n",
      "technical_skills                                                                                                                                                                                                                                                                                                                                                                                                                                                                                                                                                                                                                                                                                                                                                                                                                                                                                                                  [python, linux, react, mysql, tableau, django, spark, hadoop, javascript, scala, sql, java, ruby, numpy, ai, php]   \n",
      "soft_skills                                                                                      [cloud, team, technical, linux, process, incident, operational, microsoft, best, understanding, continuous, responsible, ansible, architect, advantage, professional, least, cloud, lead, implement, perform, preferred, various, sre, degree, able, cloud, multiple, agile, high, familiar, least, hybrid, cloud, ci, cloud, dynamic, salary, sg, java, internal, personal, cloud, global, vmware, center, native, end, strategic, upgrade, equivalent, competitive, continuous, operational, resilient, cloud, native, pte, ltd, microsoft, personal, relevant, automated, large, degree, inspire, minimum, dynamic, complex, degree, ibm, critical, amp, active, efficient, nimble, resilient, strategic, strategic, nimble, resilient, efficient, nimble, nimble, resilient, resilient, strategic, strategic, efficient, nimble, operational, nimble, concept, multiple, google, multiple, operational, multiple, strategic, operational, ...]   \n",
      "\n",
      "                                                                                                                                                                                                                                                                                                                                                                                                                                                                                                                                                                                                                                                                                                                                                                                                                                                                                                                                                                                                                                                                                                                                                                                                                                                                                                                                             1  \\\n",
      "job_title                                                                                                                                                                                                                                                                                                                                                                                                                                                                                                                                                                                                                                                                                                                                                                                                                                                                                                                                                                                                                                                                                                                                                                                                                                                                                                                    computer research   \n",
      "raw_skills        [research, computer, learning, engineering, science, computer science, machine, machine learning, ai, position, invite application, application position, invite, invite application position, project, candidate, science engineering, system, data, application, electrical, position research, application position research, development, deep learning, algorithm, publication, computer science engineering, vision, school, computer vision, phd, deep, software, research associate, programming, computer engineering, nu, communication, security, associate, record, field, design, research engineer, master, develop, conduct, school computer science, school computer, singapore, iot, paper, engineering computer, area, team, background, relevant, processing, institute, based, engineering scse, scse, science engineering scse, conference, analysis, student, electrical engineering, degree, study, conduct research, engineering computer science, bachelor, electronic, electronics, technology, report, scse invite application, engineering scse invite, scse invite, analytics, journal, engineer, python, centre, phd computer, degree computer, research development, excellent, lab, method, top, electronic engineering, may, model, discipline, graph, time, university, intelligence, ...]   \n",
      "technical_skills                                                                                                                                                                                                                                                                                                                                                                                                                                                                                                                                                                                                                                                                                                                                                                                                                                                                                                                                                                                                                                                                                                                                                                                                 [python, linux, ui, django, react, tableau, tensorflow, spark, javascript, sql, java, ruby, numpy, ai, reactjs, pytorch, php]   \n",
      "soft_skills                                                                                                                                                                                                                                                                                                                                      [ai, invite, invite, invite, electrical, algorithm, deep, nu, iot, relevant, scse, electrical, electronic, invite, invite, invite, journal, top, electronic, graph, assistant, tier, applicant, electrical, joint, electrical, etc, associate, able, clinical, joint, covid, minimum, scientific, senior, artificial, artificial, english, relevant, electrical, electronic, human, undertake, real, tensorflow, electrical, electronic, malware, senior, relevant, equivalent, senior, successful, high, assist, industrial, joint, international, principal, perform, technical, degree, equivalent, interpersonal, available, verbal, available, relevant, academic, electrical, mechanical, national, mobile, computational, natural, applicant, physical, level, deep, electrical, method, joint, alibaba, joint, joint, proficient, honeynet, technological, technological, technological, familiar, laboratory, deep, deep, ra, publish, scientific, scientific, specific, least, ...]   \n",
      "\n",
      "                                                                                                                                                                                                                                                                                                                                                                                                                                                                                                                                                                                                                                                                                                                                                                                                                                                                                                                                                                                  2  \\\n",
      "job_title                                                                                                                                                                                                                                                                                                                                                                                                                                                                                                                                                                                                                                                                                                                                                                                                                                                                                                                                                              data analyst   \n",
      "raw_skills        [data, business, management, team, analysis, process, project, analytics, stakeholder, amp, system, support, solution, user, reporting, analytical, analyst, report, tool, information, working, ability, persolkelly, technology, customer, sql, development, financial, insight, bi, need, service, product, year, provide, ensure, apply, model, application, including, identify, problem, role, using, able, operation, develop, personal, manage, excel, market, degree, com, improvement, science, ea, visualization, client, design, technical, dashboard, communication, database, finance, relevant, within, group, singapore, personal data, quality, internal, functional, office, drive, understanding, marketing, opportunity, policy, business process, across, banking, tableau, end, set, please, risk, data analysis, industry, pte ltd, pte, ltd, environment, implementation, sale, change, responsible, big, statistic, learning, plan, ...]   \n",
      "technical_skills                                                                                                                                                                                                                                                                                                                                                                                                                                                                                                                                                                                                                                                                                                                                                                                                                [ui, spark, flask, java, pytorch, linux, react, javascript, ruby, tableau, scala, python, django, mysql, tensorflow, hadoop, sql, ai, reactjs, php]   \n",
      "soft_skills              [analytical, financial, apply, able, personal, degree, ea, technical, personal, internal, functional, tableau, ltd, responsible, big, excellent, least, etc, assist, statistical, big, various, com, operational, maintain, lead, global, preferred, pte, ltd, create, advanced, posse, query, digital, complex, least, minimum, external, improve, interpersonal, multiple, large, high, equivalent, available, self, professional, interested, dynamic, uob, strategic, objective, effective, salary, metric, different, cross, necessary, monthly, quantitative, relevant, outcome, hr, control, fast, full, critical, predictive, personal, familiar, material, individual, learn, prior, current, potential, senior, minimum, updated, daily, functional, analytical, regional, analytical, commercial, deep, personal, analytic, interested, flow, contact, proven, degree, microsoft, healthcare, competitive, personal, consent, appropriate, ...]   \n",
      "\n",
      "                                                                                                                                                                                                                                                                                                                                                                                                                                                                                                                                                                                                                                                                                                                                                                                                                                                                                                                                                                                                                                                                                                                                                                                                                                                                                                                                                                                                                                               3  \\\n",
      "job_title                                                                                                                                                                                                                                                                                                                                                                                                                                                                                                                                                                                                                                                                                                                                                                                                                                                                                                                                                                                                                                                                                                                                                                                                                                                                                                                                                                                                                         data scientist   \n",
      "raw_skills        [data, research, learning, criterion, machine, scientist, team, may, machine learning, policy, science, time, development, analytics, molecular, project, biology, product, business, technology, star, model, process, engineering, amp, based, analysis, material, design, molecular biology, solution, candidate, technical, chemistry, scientific, develop, industry, include, using, phd, algorithm, bonding, ability, ai, recruitment, selection, processing, may include, may amended time, may amended, eligibility criterion exhaustive, include selection, recruitment policy policy, exhaustive star, include selection criterion, criterion exhaustive, exhaustive star may, time without, without notice, without notice candidate, time time without, prevailing recruitment policy, prevailing recruitment, criterion based prevailing, recruitment policy, star may, may include selection, notice candidate, selection criterion based, policy policy, policy may amended, time without notice, criterion exhaustive star, policy policy may, amended time time, amended time, based prevailing recruitment, star may include, based prevailing, selection criterion, exhaustive, eligibility criterion, criterion based, amended, policy may, time time, eligibility, prevailing, system, notice, application, food, data analytics, ml, method, experiment, problem, laboratory, statistical, without, ...]   \n",
      "technical_skills                                                                                                                                                                                                                                                                                                                                                                                                                                                                                                                                                                                                                                                                                                                                                                                                                                                                                                                                                                                                                                                                                                                                                                                                                                                                                            [python, linux, tableau, mysql, react, ui, spark, tensorflow, hadoop, javascript, scala, sql, java, ruby, numpy, ai, pytorch, flask]   \n",
      "soft_skills                                                                                                                                                                                                                                                                                                                                                                                                                            [molecular, molecular, technical, scientific, phd, exhaustive, selection, recruitment, exhaustive, exhaustive, exhaustive, notice, prevailing, notice, notice, exhaustive, prevailing, recruitment, prevailing, exhaustive, amended, notice, method, analytical, high, successful, lead, relevant, big, big, excellent, clinical, various, physic, able, apply, statistic, least, artificial, etc, social, presentation, grant, artificial, computational, internal, understanding, ng, deep, senior, wafer, master, functional, protein, cognitive, real, disciplinary, academic, heterogeneous, nlp, personal, insight, equivalent, similar, enable, multidisciplinary, best, experimental, analyze, external, open, complex, end, industrial, least, al, implement, appropriate, individual, ce, innovative, genomic, available, dynamic, advanced, disciplinary, digital, interpersonal, high, piml, responsible, initiative, electrical, sql, personal, large, ltd, scale, commercial, journal, ...]   \n",
      "\n",
      "                                                                                                                                                                                                                                                                                                                                                                                                                                                                                                                                                                                                                                                                                                                                                                                                                                                                                                                                                                                                                                                      4  \n",
      "job_title                                                                                                                                                                                                                                                                                                                                                                                                                                                                                                                                                                                                                                                                                                                                                                                                                                                                                                                                                                                                                             software engineer  \n",
      "raw_skills        [software, development, design, test, application, system, web, team, testing, net, amp, product, code, technology, programming, project, software development, java, develop, user, technical, framework, computer, engineer, data, quality, engineering, solution, using, end, working, ea, year, service, degree, sql, familiar, support, specification, personal, developer, diploma, apply, least, customer, business, ensure, software engineer, information, able, resume, language, database, documentation, please, understanding, control, science, computer science, full, agile, environment, architecture, spring, com, personal data, problem, based, javascript, embedded, process, mobile, web application, degree computer, issue, high, communication, ability, cs, server, html, automation, developing, client, advantage, integration, persolkelly, implementation, tool, degree computer science, singapore, required, maintain, participate, candidate, api, performance, platform, provide, responsible, ...]  \n",
      "technical_skills                                                                                                                                                                                                                                                                                                                                                                                                                                                                                                                                                                                                                                                                                                                                                                                                                                                                                                 [ui, spark, java, mongdb, linux, react, javascript, ruby, tableau, scala, python, django, mysql, hadoop, sql, php, ai, reactjs, flask]  \n",
      "soft_skills                                                                                                                    [web, net, amp, user, technical, ea, familiar, personal, least, able, understanding, full, personal, high, html, implementation, maintain, participate, responsible, functional, equivalent, requirement, proficient, build, assist, cs, asp, net, perform, least, interested, relevant, angular, ui, front, implement, pattern, basic, best, salary, linux, posse, apis, professional, purpose, minimum, know, global, continuous, applicant, excellent, senior, visual, degree, com, enhancement, restful, high, complex, minimum, learn, driven, singapore, wish, mobile, pte, ltd, personal, consent, dynamic, clean, available, degree, end, relevant, advantageous, full, electrical, various, internal, analyse, scalable, different, resume, analytical, prospective, interpersonal, embedded, personal, personal, digital, prospective, understand, solid, ci, click, multiple, relational, english, node, ...]  \n"
     ]
    }
   ],
   "source": [
    "print(output.T)"
   ]
  },
  {
   "cell_type": "code",
   "execution_count": 98,
   "metadata": {},
   "outputs": [
    {
     "data": {
      "text/html": [
       "<div>\n",
       "<style scoped>\n",
       "    .dataframe tbody tr th:only-of-type {\n",
       "        vertical-align: middle;\n",
       "    }\n",
       "\n",
       "    .dataframe tbody tr th {\n",
       "        vertical-align: top;\n",
       "    }\n",
       "\n",
       "    .dataframe thead th {\n",
       "        text-align: right;\n",
       "    }\n",
       "</style>\n",
       "<table border=\"1\" class=\"dataframe\">\n",
       "  <thead>\n",
       "    <tr style=\"text-align: right;\">\n",
       "      <th></th>\n",
       "      <th>job_title</th>\n",
       "      <th>raw_skills</th>\n",
       "      <th>technical_skills</th>\n",
       "      <th>soft_skills</th>\n",
       "    </tr>\n",
       "  </thead>\n",
       "  <tbody>\n",
       "    <tr>\n",
       "      <th>0</th>\n",
       "      <td>cloud engineer</td>\n",
       "      <td>[cloud, infrastructure, security, service, technology, system, solution, aws, team, devops, operation, amp, application, management, business, support, environment, azure, tool, technical, platform, network, development, architecture, automation, deployment, salesforce, monitoring, customer, engineer, server, manage, design, ci, linux, year, software, delivery, cloud infrastructure, working, cd, configuration, ci cd, data, etc, process, pipeline, code, hand, project, kubernetes, incident, bank, operational, integration, group, ability, certification, enterprise, provide, networking, engineering, using, microsoft, best, understanding, level, including, practice, implementation, container, scripting, administration, build, docker, com, continuous, role, problem, apply, responsible, performance, issue, ansible, maintain, architect, product, develop, ensure, advantage, government, ea, window, control, information, professional, compliance, like, cloud platform, troubleshooting, ...]</td>\n",
       "      <td>[python, linux, react, mysql, tableau, django, spark, hadoop, javascript, scala, sql, java, ruby, numpy, ai, php]</td>\n",
       "      <td>[cloud, team, technical, linux, process, incident, operational, microsoft, best, understanding, continuous, responsible, ansible, architect, advantage, professional, least, cloud, lead, implement, perform, preferred, various, sre, degree, able, cloud, multiple, agile, high, familiar, least, hybrid, cloud, ci, cloud, dynamic, salary, sg, java, internal, personal, cloud, global, vmware, center, native, end, strategic, upgrade, equivalent, competitive, continuous, operational, resilient, cloud, native, pte, ltd, microsoft, personal, relevant, automated, large, degree, inspire, minimum, dynamic, complex, degree, ibm, critical, amp, active, efficient, nimble, resilient, strategic, strategic, nimble, resilient, efficient, nimble, nimble, resilient, resilient, strategic, strategic, efficient, nimble, operational, nimble, concept, multiple, google, multiple, operational, multiple, strategic, operational, ...]</td>\n",
       "    </tr>\n",
       "    <tr>\n",
       "      <th>1</th>\n",
       "      <td>computer research</td>\n",
       "      <td>[research, computer, learning, engineering, science, computer science, machine, machine learning, ai, position, invite application, application position, invite, invite application position, project, candidate, science engineering, system, data, application, electrical, position research, application position research, development, deep learning, algorithm, publication, computer science engineering, vision, school, computer vision, phd, deep, software, research associate, programming, computer engineering, nu, communication, security, associate, record, field, design, research engineer, master, develop, conduct, school computer science, school computer, singapore, iot, paper, engineering computer, area, team, background, relevant, processing, institute, based, engineering scse, scse, science engineering scse, conference, analysis, student, electrical engineering, degree, study, conduct research, engineering computer science, bachelor, electronic, electronics, technology, report, scse invite application, engineering scse invite, scse invite, analytics, journal, engineer, python, centre, phd computer, degree computer, research development, excellent, lab, method, top, electronic engineering, may, model, discipline, graph, time, university, intelligence, ...]</td>\n",
       "      <td>[python, linux, ui, django, react, tableau, tensorflow, spark, javascript, sql, java, ruby, numpy, ai, reactjs, pytorch, php]</td>\n",
       "      <td>[ai, invite, invite, invite, electrical, algorithm, deep, nu, iot, relevant, scse, electrical, electronic, invite, invite, invite, journal, top, electronic, graph, assistant, tier, applicant, electrical, joint, electrical, etc, associate, able, clinical, joint, covid, minimum, scientific, senior, artificial, artificial, english, relevant, electrical, electronic, human, undertake, real, tensorflow, electrical, electronic, malware, senior, relevant, equivalent, senior, successful, high, assist, industrial, joint, international, principal, perform, technical, degree, equivalent, interpersonal, available, verbal, available, relevant, academic, electrical, mechanical, national, mobile, computational, natural, applicant, physical, level, deep, electrical, method, joint, alibaba, joint, joint, proficient, honeynet, technological, technological, technological, familiar, laboratory, deep, deep, ra, publish, scientific, scientific, specific, least, ...]</td>\n",
       "    </tr>\n",
       "    <tr>\n",
       "      <th>2</th>\n",
       "      <td>data analyst</td>\n",
       "      <td>[data, business, management, team, analysis, process, project, analytics, stakeholder, amp, system, support, solution, user, reporting, analytical, analyst, report, tool, information, working, ability, persolkelly, technology, customer, sql, development, financial, insight, bi, need, service, product, year, provide, ensure, apply, model, application, including, identify, problem, role, using, able, operation, develop, personal, manage, excel, market, degree, com, improvement, science, ea, visualization, client, design, technical, dashboard, communication, database, finance, relevant, within, group, singapore, personal data, quality, internal, functional, office, drive, understanding, marketing, opportunity, policy, business process, across, banking, tableau, end, set, please, risk, data analysis, industry, pte ltd, pte, ltd, environment, implementation, sale, change, responsible, big, statistic, learning, plan, ...]</td>\n",
       "      <td>[ui, spark, flask, java, pytorch, linux, react, javascript, ruby, tableau, scala, python, django, mysql, tensorflow, hadoop, sql, ai, reactjs, php]</td>\n",
       "      <td>[analytical, financial, apply, able, personal, degree, ea, technical, personal, internal, functional, tableau, ltd, responsible, big, excellent, least, etc, assist, statistical, big, various, com, operational, maintain, lead, global, preferred, pte, ltd, create, advanced, posse, query, digital, complex, least, minimum, external, improve, interpersonal, multiple, large, high, equivalent, available, self, professional, interested, dynamic, uob, strategic, objective, effective, salary, metric, different, cross, necessary, monthly, quantitative, relevant, outcome, hr, control, fast, full, critical, predictive, personal, familiar, material, individual, learn, prior, current, potential, senior, minimum, updated, daily, functional, analytical, regional, analytical, commercial, deep, personal, analytic, interested, flow, contact, proven, degree, microsoft, healthcare, competitive, personal, consent, appropriate, ...]</td>\n",
       "    </tr>\n",
       "    <tr>\n",
       "      <th>3</th>\n",
       "      <td>data scientist</td>\n",
       "      <td>[data, research, learning, criterion, machine, scientist, team, may, machine learning, policy, science, time, development, analytics, molecular, project, biology, product, business, technology, star, model, process, engineering, amp, based, analysis, material, design, molecular biology, solution, candidate, technical, chemistry, scientific, develop, industry, include, using, phd, algorithm, bonding, ability, ai, recruitment, selection, processing, may include, may amended time, may amended, eligibility criterion exhaustive, include selection, recruitment policy policy, exhaustive star, include selection criterion, criterion exhaustive, exhaustive star may, time without, without notice, without notice candidate, time time without, prevailing recruitment policy, prevailing recruitment, criterion based prevailing, recruitment policy, star may, may include selection, notice candidate, selection criterion based, policy policy, policy may amended, time without notice, criterion exhaustive star, policy policy may, amended time time, amended time, based prevailing recruitment, star may include, based prevailing, selection criterion, exhaustive, eligibility criterion, criterion based, amended, policy may, time time, eligibility, prevailing, system, notice, application, food, data analytics, ml, method, experiment, problem, laboratory, statistical, without, ...]</td>\n",
       "      <td>[python, linux, tableau, mysql, react, ui, spark, tensorflow, hadoop, javascript, scala, sql, java, ruby, numpy, ai, pytorch, flask]</td>\n",
       "      <td>[molecular, molecular, technical, scientific, phd, exhaustive, selection, recruitment, exhaustive, exhaustive, exhaustive, notice, prevailing, notice, notice, exhaustive, prevailing, recruitment, prevailing, exhaustive, amended, notice, method, analytical, high, successful, lead, relevant, big, big, excellent, clinical, various, physic, able, apply, statistic, least, artificial, etc, social, presentation, grant, artificial, computational, internal, understanding, ng, deep, senior, wafer, master, functional, protein, cognitive, real, disciplinary, academic, heterogeneous, nlp, personal, insight, equivalent, similar, enable, multidisciplinary, best, experimental, analyze, external, open, complex, end, industrial, least, al, implement, appropriate, individual, ce, innovative, genomic, available, dynamic, advanced, disciplinary, digital, interpersonal, high, piml, responsible, initiative, electrical, sql, personal, large, ltd, scale, commercial, journal, ...]</td>\n",
       "    </tr>\n",
       "    <tr>\n",
       "      <th>4</th>\n",
       "      <td>software engineer</td>\n",
       "      <td>[software, development, design, test, application, system, web, team, testing, net, amp, product, code, technology, programming, project, software development, java, develop, user, technical, framework, computer, engineer, data, quality, engineering, solution, using, end, working, ea, year, service, degree, sql, familiar, support, specification, personal, developer, diploma, apply, least, customer, business, ensure, software engineer, information, able, resume, language, database, documentation, please, understanding, control, science, computer science, full, agile, environment, architecture, spring, com, personal data, problem, based, javascript, embedded, process, mobile, web application, degree computer, issue, high, communication, ability, cs, server, html, automation, developing, client, advantage, integration, persolkelly, implementation, tool, degree computer science, singapore, required, maintain, participate, candidate, api, performance, platform, provide, responsible, ...]</td>\n",
       "      <td>[ui, spark, java, mongdb, linux, react, javascript, ruby, tableau, scala, python, django, mysql, hadoop, sql, php, ai, reactjs, flask]</td>\n",
       "      <td>[web, net, amp, user, technical, ea, familiar, personal, least, able, understanding, full, personal, high, html, implementation, maintain, participate, responsible, functional, equivalent, requirement, proficient, build, assist, cs, asp, net, perform, least, interested, relevant, angular, ui, front, implement, pattern, basic, best, salary, linux, posse, apis, professional, purpose, minimum, know, global, continuous, applicant, excellent, senior, visual, degree, com, enhancement, restful, high, complex, minimum, learn, driven, singapore, wish, mobile, pte, ltd, personal, consent, dynamic, clean, available, degree, end, relevant, advantageous, full, electrical, various, internal, analyse, scalable, different, resume, analytical, prospective, interpersonal, embedded, personal, personal, digital, prospective, understand, solid, ci, click, multiple, relational, english, node, ...]</td>\n",
       "    </tr>\n",
       "  </tbody>\n",
       "</table>\n",
       "</div>"
      ],
      "text/plain": [
       "           job_title  \\\n",
       "0     cloud engineer   \n",
       "1  computer research   \n",
       "2       data analyst   \n",
       "3     data scientist   \n",
       "4  software engineer   \n",
       "\n",
       "                                                                                                                                                                                                                                                                                                                                                                                                                                                                                                                                                                                                                                                                                                                                                                                                                                                                                                                                                                                                                                                                                                                                                                                                                                                                                                                                                                                                                       raw_skills  \\\n",
       "0                                                                                                                                                                                                                                                                                                                                                                                               [cloud, infrastructure, security, service, technology, system, solution, aws, team, devops, operation, amp, application, management, business, support, environment, azure, tool, technical, platform, network, development, architecture, automation, deployment, salesforce, monitoring, customer, engineer, server, manage, design, ci, linux, year, software, delivery, cloud infrastructure, working, cd, configuration, ci cd, data, etc, process, pipeline, code, hand, project, kubernetes, incident, bank, operational, integration, group, ability, certification, enterprise, provide, networking, engineering, using, microsoft, best, understanding, level, including, practice, implementation, container, scripting, administration, build, docker, com, continuous, role, problem, apply, responsible, performance, issue, ansible, maintain, architect, product, develop, ensure, advantage, government, ea, window, control, information, professional, compliance, like, cloud platform, troubleshooting, ...]   \n",
       "1                                                                                                    [research, computer, learning, engineering, science, computer science, machine, machine learning, ai, position, invite application, application position, invite, invite application position, project, candidate, science engineering, system, data, application, electrical, position research, application position research, development, deep learning, algorithm, publication, computer science engineering, vision, school, computer vision, phd, deep, software, research associate, programming, computer engineering, nu, communication, security, associate, record, field, design, research engineer, master, develop, conduct, school computer science, school computer, singapore, iot, paper, engineering computer, area, team, background, relevant, processing, institute, based, engineering scse, scse, science engineering scse, conference, analysis, student, electrical engineering, degree, study, conduct research, engineering computer science, bachelor, electronic, electronics, technology, report, scse invite application, engineering scse invite, scse invite, analytics, journal, engineer, python, centre, phd computer, degree computer, research development, excellent, lab, method, top, electronic engineering, may, model, discipline, graph, time, university, intelligence, ...]   \n",
       "2                                                                                                                                                                                                                                                                                                                                                                                                                                                               [data, business, management, team, analysis, process, project, analytics, stakeholder, amp, system, support, solution, user, reporting, analytical, analyst, report, tool, information, working, ability, persolkelly, technology, customer, sql, development, financial, insight, bi, need, service, product, year, provide, ensure, apply, model, application, including, identify, problem, role, using, able, operation, develop, personal, manage, excel, market, degree, com, improvement, science, ea, visualization, client, design, technical, dashboard, communication, database, finance, relevant, within, group, singapore, personal data, quality, internal, functional, office, drive, understanding, marketing, opportunity, policy, business process, across, banking, tableau, end, set, please, risk, data analysis, industry, pte ltd, pte, ltd, environment, implementation, sale, change, responsible, big, statistic, learning, plan, ...]   \n",
       "3  [data, research, learning, criterion, machine, scientist, team, may, machine learning, policy, science, time, development, analytics, molecular, project, biology, product, business, technology, star, model, process, engineering, amp, based, analysis, material, design, molecular biology, solution, candidate, technical, chemistry, scientific, develop, industry, include, using, phd, algorithm, bonding, ability, ai, recruitment, selection, processing, may include, may amended time, may amended, eligibility criterion exhaustive, include selection, recruitment policy policy, exhaustive star, include selection criterion, criterion exhaustive, exhaustive star may, time without, without notice, without notice candidate, time time without, prevailing recruitment policy, prevailing recruitment, criterion based prevailing, recruitment policy, star may, may include selection, notice candidate, selection criterion based, policy policy, policy may amended, time without notice, criterion exhaustive star, policy policy may, amended time time, amended time, based prevailing recruitment, star may include, based prevailing, selection criterion, exhaustive, eligibility criterion, criterion based, amended, policy may, time time, eligibility, prevailing, system, notice, application, food, data analytics, ml, method, experiment, problem, laboratory, statistical, without, ...]   \n",
       "4                                                                                                                                                                                                                                                                                                                                                                                           [software, development, design, test, application, system, web, team, testing, net, amp, product, code, technology, programming, project, software development, java, develop, user, technical, framework, computer, engineer, data, quality, engineering, solution, using, end, working, ea, year, service, degree, sql, familiar, support, specification, personal, developer, diploma, apply, least, customer, business, ensure, software engineer, information, able, resume, language, database, documentation, please, understanding, control, science, computer science, full, agile, environment, architecture, spring, com, personal data, problem, based, javascript, embedded, process, mobile, web application, degree computer, issue, high, communication, ability, cs, server, html, automation, developing, client, advantage, integration, persolkelly, implementation, tool, degree computer science, singapore, required, maintain, participate, candidate, api, performance, platform, provide, responsible, ...]   \n",
       "\n",
       "                                                                                                                                      technical_skills  \\\n",
       "0                                    [python, linux, react, mysql, tableau, django, spark, hadoop, javascript, scala, sql, java, ruby, numpy, ai, php]   \n",
       "1                        [python, linux, ui, django, react, tableau, tensorflow, spark, javascript, sql, java, ruby, numpy, ai, reactjs, pytorch, php]   \n",
       "2  [ui, spark, flask, java, pytorch, linux, react, javascript, ruby, tableau, scala, python, django, mysql, tensorflow, hadoop, sql, ai, reactjs, php]   \n",
       "3                 [python, linux, tableau, mysql, react, ui, spark, tensorflow, hadoop, javascript, scala, sql, java, ruby, numpy, ai, pytorch, flask]   \n",
       "4               [ui, spark, java, mongdb, linux, react, javascript, ruby, tableau, scala, python, django, mysql, hadoop, sql, php, ai, reactjs, flask]   \n",
       "\n",
       "                                                                                                                                                                                                                                                                                                                                                                                                                                                                                                                                                                                                                                                                                                                                                                                                                                                                                                                                                                                                 soft_skills  \n",
       "0                                                         [cloud, team, technical, linux, process, incident, operational, microsoft, best, understanding, continuous, responsible, ansible, architect, advantage, professional, least, cloud, lead, implement, perform, preferred, various, sre, degree, able, cloud, multiple, agile, high, familiar, least, hybrid, cloud, ci, cloud, dynamic, salary, sg, java, internal, personal, cloud, global, vmware, center, native, end, strategic, upgrade, equivalent, competitive, continuous, operational, resilient, cloud, native, pte, ltd, microsoft, personal, relevant, automated, large, degree, inspire, minimum, dynamic, complex, degree, ibm, critical, amp, active, efficient, nimble, resilient, strategic, strategic, nimble, resilient, efficient, nimble, nimble, resilient, resilient, strategic, strategic, efficient, nimble, operational, nimble, concept, multiple, google, multiple, operational, multiple, strategic, operational, ...]  \n",
       "1              [ai, invite, invite, invite, electrical, algorithm, deep, nu, iot, relevant, scse, electrical, electronic, invite, invite, invite, journal, top, electronic, graph, assistant, tier, applicant, electrical, joint, electrical, etc, associate, able, clinical, joint, covid, minimum, scientific, senior, artificial, artificial, english, relevant, electrical, electronic, human, undertake, real, tensorflow, electrical, electronic, malware, senior, relevant, equivalent, senior, successful, high, assist, industrial, joint, international, principal, perform, technical, degree, equivalent, interpersonal, available, verbal, available, relevant, academic, electrical, mechanical, national, mobile, computational, natural, applicant, physical, level, deep, electrical, method, joint, alibaba, joint, joint, proficient, honeynet, technological, technological, technological, familiar, laboratory, deep, deep, ra, publish, scientific, scientific, specific, least, ...]  \n",
       "2                                                 [analytical, financial, apply, able, personal, degree, ea, technical, personal, internal, functional, tableau, ltd, responsible, big, excellent, least, etc, assist, statistical, big, various, com, operational, maintain, lead, global, preferred, pte, ltd, create, advanced, posse, query, digital, complex, least, minimum, external, improve, interpersonal, multiple, large, high, equivalent, available, self, professional, interested, dynamic, uob, strategic, objective, effective, salary, metric, different, cross, necessary, monthly, quantitative, relevant, outcome, hr, control, fast, full, critical, predictive, personal, familiar, material, individual, learn, prior, current, potential, senior, minimum, updated, daily, functional, analytical, regional, analytical, commercial, deep, personal, analytic, interested, flow, contact, proven, degree, microsoft, healthcare, competitive, personal, consent, appropriate, ...]  \n",
       "3  [molecular, molecular, technical, scientific, phd, exhaustive, selection, recruitment, exhaustive, exhaustive, exhaustive, notice, prevailing, notice, notice, exhaustive, prevailing, recruitment, prevailing, exhaustive, amended, notice, method, analytical, high, successful, lead, relevant, big, big, excellent, clinical, various, physic, able, apply, statistic, least, artificial, etc, social, presentation, grant, artificial, computational, internal, understanding, ng, deep, senior, wafer, master, functional, protein, cognitive, real, disciplinary, academic, heterogeneous, nlp, personal, insight, equivalent, similar, enable, multidisciplinary, best, experimental, analyze, external, open, complex, end, industrial, least, al, implement, appropriate, individual, ce, innovative, genomic, available, dynamic, advanced, disciplinary, digital, interpersonal, high, piml, responsible, initiative, electrical, sql, personal, large, ltd, scale, commercial, journal, ...]  \n",
       "4                                                                                   [web, net, amp, user, technical, ea, familiar, personal, least, able, understanding, full, personal, high, html, implementation, maintain, participate, responsible, functional, equivalent, requirement, proficient, build, assist, cs, asp, net, perform, least, interested, relevant, angular, ui, front, implement, pattern, basic, best, salary, linux, posse, apis, professional, purpose, minimum, know, global, continuous, applicant, excellent, senior, visual, degree, com, enhancement, restful, high, complex, minimum, learn, driven, singapore, wish, mobile, pte, ltd, personal, consent, dynamic, clean, available, degree, end, relevant, advantageous, full, electrical, various, internal, analyse, scalable, different, resume, analytical, prospective, interpersonal, embedded, personal, personal, digital, prospective, understand, solid, ci, click, multiple, relational, english, node, ...]  "
      ]
     },
     "execution_count": 98,
     "metadata": {},
     "output_type": "execute_result"
    }
   ],
   "source": [
    "output"
   ]
  },
  {
   "cell_type": "code",
   "execution_count": 101,
   "metadata": {},
   "outputs": [
    {
     "data": {
      "text/html": [
       "<div>\n",
       "<style scoped>\n",
       "    .dataframe tbody tr th:only-of-type {\n",
       "        vertical-align: middle;\n",
       "    }\n",
       "\n",
       "    .dataframe tbody tr th {\n",
       "        vertical-align: top;\n",
       "    }\n",
       "\n",
       "    .dataframe thead th {\n",
       "        text-align: right;\n",
       "    }\n",
       "</style>\n",
       "<table border=\"1\" class=\"dataframe\">\n",
       "  <thead>\n",
       "    <tr style=\"text-align: right;\">\n",
       "      <th></th>\n",
       "      <th>job_title</th>\n",
       "      <th>raw_skills</th>\n",
       "      <th>technical_skills</th>\n",
       "      <th>soft_skills</th>\n",
       "    </tr>\n",
       "  </thead>\n",
       "  <tbody>\n",
       "    <tr>\n",
       "      <th>4</th>\n",
       "      <td>software engineer</td>\n",
       "      <td>[software, development, design, test, application, system, web, team, testing, net, amp, product, code, technology, programming, project, software development, java, develop, user, technical, framework, computer, engineer, data, quality, engineering, solution, using, end, working, ea, year, service, degree, sql, familiar, support, specification, personal, developer, diploma, apply, least, customer, business, ensure, software engineer, information, able, resume, language, database, documentation, please, understanding, control, science, computer science, full, agile, environment, architecture, spring, com, personal data, problem, based, javascript, embedded, process, mobile, web application, degree computer, issue, high, communication, ability, cs, server, html, automation, developing, client, advantage, integration, persolkelly, implementation, tool, degree computer science, singapore, required, maintain, participate, candidate, api, performance, platform, provide, responsible, ...]</td>\n",
       "      <td>[ui, spark, java, mongdb, linux, react, javascript, ruby, tableau, scala, python, django, mysql, hadoop, sql, php, ai, reactjs, flask]</td>\n",
       "      <td>[web, net, amp, user, technical, ea, familiar, personal, least, able, understanding, full, personal, high, html, implementation, maintain, participate, responsible, functional, equivalent, requirement, proficient, build, assist, cs, asp, net, perform, least, interested, relevant, angular, ui, front, implement, pattern, basic, best, salary, linux, posse, apis, professional, purpose, minimum, know, global, continuous, applicant, excellent, senior, visual, degree, com, enhancement, restful, high, complex, minimum, learn, driven, singapore, wish, mobile, pte, ltd, personal, consent, dynamic, clean, available, degree, end, relevant, advantageous, full, electrical, various, internal, analyse, scalable, different, resume, analytical, prospective, interpersonal, embedded, personal, personal, digital, prospective, understand, solid, ci, click, multiple, relational, english, node, ...]</td>\n",
       "    </tr>\n",
       "  </tbody>\n",
       "</table>\n",
       "</div>"
      ],
      "text/plain": [
       "           job_title  \\\n",
       "4  software engineer   \n",
       "\n",
       "                                                                                                                                                                                                                                                                                                                                                                                                                                                                                                                                                                                                                                                                                                                                                                                                                                                                                                                                                                                                                              raw_skills  \\\n",
       "4  [software, development, design, test, application, system, web, team, testing, net, amp, product, code, technology, programming, project, software development, java, develop, user, technical, framework, computer, engineer, data, quality, engineering, solution, using, end, working, ea, year, service, degree, sql, familiar, support, specification, personal, developer, diploma, apply, least, customer, business, ensure, software engineer, information, able, resume, language, database, documentation, please, understanding, control, science, computer science, full, agile, environment, architecture, spring, com, personal data, problem, based, javascript, embedded, process, mobile, web application, degree computer, issue, high, communication, ability, cs, server, html, automation, developing, client, advantage, integration, persolkelly, implementation, tool, degree computer science, singapore, required, maintain, participate, candidate, api, performance, platform, provide, responsible, ...]   \n",
       "\n",
       "                                                                                                                         technical_skills  \\\n",
       "4  [ui, spark, java, mongdb, linux, react, javascript, ruby, tableau, scala, python, django, mysql, hadoop, sql, php, ai, reactjs, flask]   \n",
       "\n",
       "                                                                                                                                                                                                                                                                                                                                                                                                                                                                                                                                                                                                                                                                                                                                                                                                                                                                                                                soft_skills  \n",
       "4  [web, net, amp, user, technical, ea, familiar, personal, least, able, understanding, full, personal, high, html, implementation, maintain, participate, responsible, functional, equivalent, requirement, proficient, build, assist, cs, asp, net, perform, least, interested, relevant, angular, ui, front, implement, pattern, basic, best, salary, linux, posse, apis, professional, purpose, minimum, know, global, continuous, applicant, excellent, senior, visual, degree, com, enhancement, restful, high, complex, minimum, learn, driven, singapore, wish, mobile, pte, ltd, personal, consent, dynamic, clean, available, degree, end, relevant, advantageous, full, electrical, various, internal, analyse, scalable, different, resume, analytical, prospective, interpersonal, embedded, personal, personal, digital, prospective, understand, solid, ci, click, multiple, relational, english, node, ...]  "
      ]
     },
     "execution_count": 101,
     "metadata": {},
     "output_type": "execute_result"
    }
   ],
   "source": [
    "output[output['job_title']=='software engineer']"
   ]
  },
  {
   "cell_type": "code",
   "execution_count": 103,
   "metadata": {},
   "outputs": [],
   "source": [
    "skills_df = df[['keyword','clean_job_desc']]"
   ]
  },
  {
   "cell_type": "code",
   "execution_count": 154,
   "metadata": {},
   "outputs": [],
   "source": [
    "def match_skills(dataframe):\n",
    "    tokens = set(dataframe.clean_job_desc.split(\" \"))\n",
    "    technical_skills = output[output.job_title==dataframe.keyword]['technical_skills'].tolist()[0]\n",
    "    dataframe['technical_skills'] = list(set(technical_skills).intersection(tokens))\n",
    "    \n",
    "    soft_skills = output[output.job_title==dataframe.keyword]['soft_skills'].tolist()[0]\n",
    "    dataframe['soft_skills'] = list(set(soft_skills).intersection(tokens))\n",
    "    \n",
    "    raw_skills = output[output.job_title==dataframe.keyword]['raw_skills'].tolist()[0]\n",
    "    dataframe['raw_skills'] = list(set(raw_skills).intersection(tokens) - set(technical_skills) - set(soft_skills))\n",
    "    \n",
    "    return dataframe"
   ]
  },
  {
   "cell_type": "code",
   "execution_count": null,
   "metadata": {},
   "outputs": [],
   "source": [
    "skills_df = skills_df.apply(match_skills, axis=1)"
   ]
  },
  {
   "cell_type": "code",
   "execution_count": null,
   "metadata": {},
   "outputs": [],
   "source": [
    "skills_df"
   ]
  }
 ],
 "metadata": {
  "kernelspec": {
   "display_name": "Python 3",
   "language": "python",
   "name": "python3"
  },
  "language_info": {
   "codemirror_mode": {
    "name": "ipython",
    "version": 3
   },
   "file_extension": ".py",
   "mimetype": "text/x-python",
   "name": "python",
   "nbconvert_exporter": "python",
   "pygments_lexer": "ipython3",
   "version": "3.7.3"
  }
 },
 "nbformat": 4,
 "nbformat_minor": 2
}
