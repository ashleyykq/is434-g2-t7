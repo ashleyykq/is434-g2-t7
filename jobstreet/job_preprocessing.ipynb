{
 "cells": [
  {
   "cell_type": "code",
   "execution_count": 1,
   "metadata": {},
   "outputs": [],
   "source": [
    "import pandas as pd \n",
    "import numpy as np\n",
    "import matplotlib.pyplot as plt"
   ]
  },
  {
   "cell_type": "code",
   "execution_count": 2,
   "metadata": {},
   "outputs": [],
   "source": [
    "#Get all files inside job_data folder\n",
    "from os import listdir\n",
    "from os.path import isfile, join\n",
    "import os\n",
    "\n",
    "cwd = os.getcwd()\n",
    "mypath= join(cwd,\"job_data\")\n",
    "\n",
    "onlyfiles = [f for f in listdir(mypath) if isfile(join(mypath, f))]"
   ]
  },
  {
   "cell_type": "code",
   "execution_count": 3,
   "metadata": {},
   "outputs": [],
   "source": [
    "dfs = []\n",
    "for files in onlyfiles:\n",
    "    temp_df = pd.read_csv(\"job_data/\" + files)\n",
    "    dfs.append(temp_df)\n",
    "\n",
    "df = pd.concat(dfs,ignore_index=True)"
   ]
  },
  {
   "cell_type": "code",
   "execution_count": 4,
   "metadata": {},
   "outputs": [
    {
     "name": "stdout",
     "output_type": "stream",
     "text": [
      "<class 'pandas.core.frame.DataFrame'>\n",
      "RangeIndex: 4055 entries, 0 to 4054\n",
      "Data columns (total 36 columns):\n",
      " #   Column                             Non-Null Count  Dtype  \n",
      "---  ------                             --------------  -----  \n",
      " 0   Unnamed: 0                         4055 non-null   int64  \n",
      " 1   keyword                            4055 non-null   object \n",
      " 2   link                               4055 non-null   object \n",
      " 3   job_id                             4055 non-null   int64  \n",
      " 4   job_title                          4055 non-null   object \n",
      " 5   job_expired                        4055 non-null   bool   \n",
      " 6   job_confidential                   4055 non-null   bool   \n",
      " 7   job_salary_min                     842 non-null    float64\n",
      " 8   job_salary_max                     842 non-null    float64\n",
      " 9   job_salary_currency                3864 non-null   object \n",
      " 10  company                            4035 non-null   object \n",
      " 11  job_post_date                      4055 non-null   object \n",
      " 12  job_internship                     4055 non-null   bool   \n",
      " 13  company_website                    0 non-null      float64\n",
      " 14  company_avgProcessTime             2244 non-null   object \n",
      " 15  company_registrationNo             3874 non-null   object \n",
      " 16  company_workingHours               0 non-null      float64\n",
      " 17  company_facebook                   0 non-null      float64\n",
      " 18  company_size                       3852 non-null   object \n",
      " 19  company_dressCode                  0 non-null      float64\n",
      " 20  company_nearbyLocations            1096 non-null   object \n",
      " 21  company_overview                   3902 non-null   object \n",
      " 22  job_description                    4055 non-null   object \n",
      " 23  job_summary                        4055 non-null   object \n",
      " 24  job_requirement_career_level       4055 non-null   object \n",
      " 25  job_requirement_fieldOfStudy       0 non-null      float64\n",
      " 26  job_requirement_yearsOfExperience  3455 non-null   object \n",
      " 27  job_requirement_qualification      4049 non-null   object \n",
      " 28  job_requirement_skill              0 non-null      float64\n",
      " 29  job_employment_type                3964 non-null   object \n",
      " 30  job_languages                      0 non-null      float64\n",
      " 31  job_benefits                       4055 non-null   object \n",
      " 32  job_apply_url                      4055 non-null   object \n",
      " 33  job_location_zipcode               4055 non-null   int64  \n",
      " 34  job_location                       4055 non-null   object \n",
      " 35  job_country                        4055 non-null   object \n",
      "dtypes: bool(3), float64(9), int64(3), object(21)\n",
      "memory usage: 1.0+ MB\n"
     ]
    }
   ],
   "source": [
    "df.info()"
   ]
  },
  {
   "cell_type": "code",
   "execution_count": 5,
   "metadata": {},
   "outputs": [
    {
     "name": "stdout",
     "output_type": "stream",
     "text": [
      "<class 'pandas.core.frame.DataFrame'>\n",
      "RangeIndex: 4055 entries, 0 to 4054\n",
      "Data columns (total 36 columns):\n",
      " #   Column                             Non-Null Count  Dtype  \n",
      "---  ------                             --------------  -----  \n",
      " 0   Unnamed: 0                         4055 non-null   int64  \n",
      " 1   keyword                            4055 non-null   object \n",
      " 2   link                               4055 non-null   object \n",
      " 3   job_id                             4055 non-null   int64  \n",
      " 4   job_title                          4055 non-null   object \n",
      " 5   job_expired                        4055 non-null   bool   \n",
      " 6   job_confidential                   4055 non-null   bool   \n",
      " 7   job_salary_min                     842 non-null    float64\n",
      " 8   job_salary_max                     842 non-null    float64\n",
      " 9   job_salary_currency                3864 non-null   object \n",
      " 10  company                            4035 non-null   object \n",
      " 11  job_post_date                      4055 non-null   object \n",
      " 12  job_internship                     4055 non-null   bool   \n",
      " 13  company_website                    0 non-null      float64\n",
      " 14  company_avgProcessTime             2244 non-null   object \n",
      " 15  company_registrationNo             3874 non-null   object \n",
      " 16  company_workingHours               0 non-null      float64\n",
      " 17  company_facebook                   0 non-null      float64\n",
      " 18  company_size                       3852 non-null   object \n",
      " 19  company_dressCode                  0 non-null      float64\n",
      " 20  company_nearbyLocations            1096 non-null   object \n",
      " 21  company_overview                   3902 non-null   object \n",
      " 22  job_description                    4055 non-null   object \n",
      " 23  job_summary                        4055 non-null   object \n",
      " 24  job_requirement_career_level       4055 non-null   object \n",
      " 25  job_requirement_fieldOfStudy       0 non-null      float64\n",
      " 26  job_requirement_yearsOfExperience  3455 non-null   object \n",
      " 27  job_requirement_qualification      4049 non-null   object \n",
      " 28  job_requirement_skill              0 non-null      float64\n",
      " 29  job_employment_type                3964 non-null   object \n",
      " 30  job_languages                      0 non-null      float64\n",
      " 31  job_benefits                       4055 non-null   object \n",
      " 32  job_apply_url                      4055 non-null   object \n",
      " 33  job_location_zipcode               4055 non-null   int64  \n",
      " 34  job_location                       4055 non-null   object \n",
      " 35  job_country                        4055 non-null   object \n",
      "dtypes: bool(3), float64(9), int64(3), object(21)\n",
      "memory usage: 1.0+ MB\n"
     ]
    }
   ],
   "source": [
    "df.info()"
   ]
  },
  {
   "cell_type": "markdown",
   "metadata": {},
   "source": [
    "### Clean Job Title"
   ]
  },
  {
   "cell_type": "code",
   "execution_count": 6,
   "metadata": {},
   "outputs": [],
   "source": [
    "import re\n",
    "\n",
    "def clean_job_title(job_title):\n",
    "    job_title = re.sub(\"[\\(\\[].*?[\\)\\]]\", \"\", job_title) #remove everything within the bracket\n",
    "    job_title = re.sub(r'[^\\w]', ' ', job_title) #remove that's not alphanumeric or underscore\n",
    "    job_title = re.sub(r'\\w*\\d\\w*', '', job_title) #remove words with number\n",
    "    job_title = job_title.strip() #remove trailing and ending whitespace\n",
    "    job_title = re.sub(\"\\s\\s+\", \" \", job_title) #remove multiple whitespace\n",
    "    job_title = job_title.title() #proper casing\n",
    "    return job_title"
   ]
  },
  {
   "cell_type": "code",
   "execution_count": 7,
   "metadata": {},
   "outputs": [],
   "source": [
    "df[\"clean_job_title\"] = df[\"job_title\"].apply(clean_job_title)"
   ]
  },
  {
   "cell_type": "markdown",
   "metadata": {},
   "source": [
    "### Clean Job Description"
   ]
  },
  {
   "cell_type": "code",
   "execution_count": 8,
   "metadata": {},
   "outputs": [
    {
     "name": "stderr",
     "output_type": "stream",
     "text": [
      "[nltk_data] Downloading package stopwords to\n",
      "[nltk_data]     C:\\Users\\teo-e\\AppData\\Roaming\\nltk_data...\n",
      "[nltk_data]   Package stopwords is already up-to-date!\n",
      "[nltk_data] Downloading package punkt to\n",
      "[nltk_data]     C:\\Users\\teo-e\\AppData\\Roaming\\nltk_data...\n",
      "[nltk_data]   Package punkt is already up-to-date!\n"
     ]
    },
    {
     "data": {
      "text/plain": [
       "True"
      ]
     },
     "execution_count": 8,
     "metadata": {},
     "output_type": "execute_result"
    }
   ],
   "source": [
    "# from bs4 import BeautifulSoup\n",
    "import nltk\n",
    "from nltk.corpus import stopwords\n",
    "nltk.download('stopwords')\n",
    "nltk.download('punkt')"
   ]
  },
  {
   "cell_type": "code",
   "execution_count": 9,
   "metadata": {},
   "outputs": [],
   "source": [
    "#add stopwords\n",
    "ALL_STOPWORDS = stopwords.words('english')\n",
    "ALL_STOPWORDS += [\"related\", \"good\", \"public\", \"ntu\", \"invite\", \"fellow\", \"new\", \"additional\", \"requirements\", \"knowledge\", \"work\",\"experience\", \"skills\", \"job\", \"key\", \"responsibilities\", \"company\", \"shortlisted\", \"contract\", \"strong\", \"candidate\", \"regret\", \"contacted\", \"notified\"]"
   ]
  },
  {
   "cell_type": "code",
   "execution_count": 10,
   "metadata": {},
   "outputs": [],
   "source": [
    "from nltk.stem import WordNetLemmatizer\n",
    "lemmatizer = WordNetLemmatizer()\n",
    "\n",
    "def clean_job_description(job_description):\n",
    "#     soup = BeautifulSoup(job_description) #certain text merged together due to HTML structure\n",
    "#     job_description = soup.get_text() #remove all html tags\n",
    "    job_description = job_description.lower()\n",
    "    job_description = re.sub('<[^<]+?>', ' ', job_description) #remove all html tags\n",
    "    job_description = re.sub(r'[^\\w]', ' ', job_description) #remove that's not alphanumeric or underscore\n",
    "    job_description = re.sub(r'\\d', ' ', job_description) #remove number\n",
    "    job_description = job_description.strip() #remove trailing and ending whitespace\n",
    "    job_description = re.sub(r\"\\s\\s+\", \" \", job_description) #remove multiple whitespace\n",
    "    text_tokens = job_description.split(\" \")\n",
    "    job_description = [lemmatizer.lemmatize(word) for word in text_tokens if word not in ALL_STOPWORDS] #stop word removal\n",
    "    return \" \".join(job_description)"
   ]
  },
  {
   "cell_type": "code",
   "execution_count": 11,
   "metadata": {},
   "outputs": [],
   "source": [
    "def splitDescriptionAndRequirement(df):\n",
    "    jd = df[\"job_description\"]\n",
    "    sjd = jd.split(\">Requirements\")\n",
    "    if len(sjd) == 1:\n",
    "        sjd = jd.split(\">Job Requirements\")\n",
    "    df['clean_job_desc'] = clean_job_description(jd)\n",
    "    df['job_desc_only'] = clean_job_description(sjd[0])\n",
    "    df['job_req_only'] = clean_job_description(\"\".join(sjd[1:]))\n",
    "    return df"
   ]
  },
  {
   "cell_type": "code",
   "execution_count": 12,
   "metadata": {},
   "outputs": [],
   "source": [
    "df = df.apply(splitDescriptionAndRequirement, axis=1)"
   ]
  },
  {
   "cell_type": "code",
   "execution_count": 13,
   "metadata": {},
   "outputs": [
    {
     "name": "stdout",
     "output_type": "stream",
     "text": [
      "<class 'pandas.core.frame.DataFrame'>\n",
      "RangeIndex: 4055 entries, 0 to 4054\n",
      "Data columns (total 40 columns):\n",
      " #   Column                             Non-Null Count  Dtype  \n",
      "---  ------                             --------------  -----  \n",
      " 0   Unnamed: 0                         4055 non-null   int64  \n",
      " 1   keyword                            4055 non-null   object \n",
      " 2   link                               4055 non-null   object \n",
      " 3   job_id                             4055 non-null   int64  \n",
      " 4   job_title                          4055 non-null   object \n",
      " 5   job_expired                        4055 non-null   bool   \n",
      " 6   job_confidential                   4055 non-null   bool   \n",
      " 7   job_salary_min                     842 non-null    float64\n",
      " 8   job_salary_max                     842 non-null    float64\n",
      " 9   job_salary_currency                3864 non-null   object \n",
      " 10  company                            4035 non-null   object \n",
      " 11  job_post_date                      4055 non-null   object \n",
      " 12  job_internship                     4055 non-null   bool   \n",
      " 13  company_website                    0 non-null      float64\n",
      " 14  company_avgProcessTime             2244 non-null   object \n",
      " 15  company_registrationNo             3874 non-null   object \n",
      " 16  company_workingHours               0 non-null      float64\n",
      " 17  company_facebook                   0 non-null      float64\n",
      " 18  company_size                       3852 non-null   object \n",
      " 19  company_dressCode                  0 non-null      float64\n",
      " 20  company_nearbyLocations            1096 non-null   object \n",
      " 21  company_overview                   3902 non-null   object \n",
      " 22  job_description                    4055 non-null   object \n",
      " 23  job_summary                        4055 non-null   object \n",
      " 24  job_requirement_career_level       4055 non-null   object \n",
      " 25  job_requirement_fieldOfStudy       0 non-null      float64\n",
      " 26  job_requirement_yearsOfExperience  3455 non-null   object \n",
      " 27  job_requirement_qualification      4049 non-null   object \n",
      " 28  job_requirement_skill              0 non-null      float64\n",
      " 29  job_employment_type                3964 non-null   object \n",
      " 30  job_languages                      0 non-null      float64\n",
      " 31  job_benefits                       4055 non-null   object \n",
      " 32  job_apply_url                      4055 non-null   object \n",
      " 33  job_location_zipcode               4055 non-null   int64  \n",
      " 34  job_location                       4055 non-null   object \n",
      " 35  job_country                        4055 non-null   object \n",
      " 36  clean_job_title                    4055 non-null   object \n",
      " 37  clean_job_desc                     4055 non-null   object \n",
      " 38  job_desc_only                      4055 non-null   object \n",
      " 39  job_req_only                       4055 non-null   object \n",
      "dtypes: bool(3), float64(9), int64(3), object(25)\n",
      "memory usage: 1.2+ MB\n"
     ]
    }
   ],
   "source": [
    "df.info()"
   ]
  },
  {
   "cell_type": "code",
   "execution_count": 14,
   "metadata": {},
   "outputs": [],
   "source": [
    "df.to_csv(\"31_mar_clean_all_job_data.csv\")"
   ]
  }
 ],
 "metadata": {
  "kernelspec": {
   "display_name": "Python 3",
   "language": "python",
   "name": "python3"
  },
  "language_info": {
   "codemirror_mode": {
    "name": "ipython",
    "version": 3
   },
   "file_extension": ".py",
   "mimetype": "text/x-python",
   "name": "python",
   "nbconvert_exporter": "python",
   "pygments_lexer": "ipython3",
   "version": "3.7.3"
  }
 },
 "nbformat": 4,
 "nbformat_minor": 2
}
