{
 "cells": [
  {
   "cell_type": "code",
   "execution_count": 1,
   "metadata": {
    "scrolled": true
   },
   "outputs": [
    {
     "name": "stdout",
     "output_type": "stream",
     "text": [
      "Collecting facebook-scraper\n",
      "  Downloading facebook_scraper-0.2.54-py3-none-any.whl (42 kB)\n",
      "     ---------------------------------------- 42.1/42.1 KB 2.0 MB/s eta 0:00:00\n",
      "Collecting requests-html<0.11.0,>=0.10.0\n",
      "  Downloading requests_html-0.10.0-py3-none-any.whl (13 kB)\n",
      "Collecting demjson3<4.0.0,>=3.0.5\n",
      "  Downloading demjson3-3.0.5.tar.gz (132 kB)\n",
      "     -------------------------------------- 132.4/132.4 KB 7.6 MB/s eta 0:00:00\n",
      "  Preparing metadata (setup.py): started\n",
      "  Preparing metadata (setup.py): finished with status 'done'\n",
      "Collecting dateparser<2.0.0,>=1.0.0\n",
      "  Downloading dateparser-1.1.1-py2.py3-none-any.whl (288 kB)\n",
      "     ------------------------------------- 288.9/288.9 KB 18.6 MB/s eta 0:00:00\n",
      "Requirement already satisfied: python-dateutil in c:\\anaconda_file\\lib\\site-packages (from dateparser<2.0.0,>=1.0.0->facebook-scraper) (2.8.1)\n",
      "Requirement already satisfied: regex!=2019.02.19,!=2021.8.27,<2022.3.15 in c:\\anaconda_file\\lib\\site-packages (from dateparser<2.0.0,>=1.0.0->facebook-scraper) (2020.10.15)\n",
      "Collecting tzlocal\n",
      "Note: you may need to restart the kernel to use updated packages.  Downloading tzlocal-4.1-py3-none-any.whl (19 kB)\n",
      "Requirement already satisfied: pytz in c:\\anaconda_file\\lib\\site-packages (from dateparser<2.0.0,>=1.0.0->facebook-scraper) (2020.1)\n",
      "Collecting fake-useragent\n",
      "\n"
     ]
    },
    {
     "name": "stderr",
     "output_type": "stream",
     "text": [
      "ERROR: pip's dependency resolver does not currently take into account all the packages that are installed. This behaviour is the source of the following dependency conflicts.\n",
      "conda 4.12.0 requires ruamel_yaml_conda>=0.11.14, which is not installed.\n",
      "mxnet 1.4.0 requires numpy<1.15.0,>=1.8.2, but you have numpy 1.22.2 which is incompatible.\n",
      "mxnet 1.4.0 requires requests<2.19.0,>=2.18.4, but you have requests 2.27.1 which is incompatible.\n"
     ]
    },
    {
     "name": "stdout",
     "output_type": "stream",
     "text": [
      "  Downloading fake-useragent-0.1.11.tar.gz (13 kB)\n",
      "  Preparing metadata (setup.py): started\n",
      "  Preparing metadata (setup.py): finished with status 'done'\n",
      "Requirement already satisfied: requests in c:\\anaconda_file\\lib\\site-packages (from requests-html<0.11.0,>=0.10.0->facebook-scraper) (2.27.1)\n",
      "Collecting parse\n",
      "  Downloading parse-1.19.0.tar.gz (30 kB)\n",
      "  Preparing metadata (setup.py): started\n",
      "  Preparing metadata (setup.py): finished with status 'done'\n",
      "Collecting pyquery\n",
      "  Downloading pyquery-1.4.3-py3-none-any.whl (22 kB)\n",
      "Collecting pyppeteer>=0.0.14\n",
      "  Downloading pyppeteer-1.0.2-py3-none-any.whl (83 kB)\n",
      "     ---------------------------------------- 83.4/83.4 KB ? eta 0:00:00\n",
      "Collecting bs4\n",
      "  Downloading bs4-0.0.1.tar.gz (1.1 kB)\n",
      "  Preparing metadata (setup.py): started\n",
      "  Preparing metadata (setup.py): finished with status 'done'\n",
      "Requirement already satisfied: w3lib in c:\\anaconda_file\\lib\\site-packages (from requests-html<0.11.0,>=0.10.0->facebook-scraper) (1.22.0)\n",
      "Collecting certifi>=2021\n",
      "  Downloading certifi-2021.10.8-py2.py3-none-any.whl (149 kB)\n",
      "     ---------------------------------------- 149.2/149.2 KB ? eta 0:00:00\n",
      "Collecting appdirs<2.0.0,>=1.4.3\n",
      "  Downloading appdirs-1.4.4-py2.py3-none-any.whl (9.6 kB)\n",
      "Collecting pyee<9.0.0,>=8.1.0\n",
      "  Downloading pyee-8.2.2-py2.py3-none-any.whl (12 kB)\n",
      "Requirement already satisfied: tqdm<5.0.0,>=4.42.1 in c:\\anaconda_file\\lib\\site-packages (from pyppeteer>=0.0.14->requests-html<0.11.0,>=0.10.0->facebook-scraper) (4.62.3)\n",
      "Collecting urllib3<2.0.0,>=1.25.8\n",
      "  Downloading urllib3-1.26.9-py2.py3-none-any.whl (138 kB)\n",
      "     ---------------------------------------- 139.0/139.0 KB ? eta 0:00:00\n",
      "Requirement already satisfied: importlib-metadata>=1.4 in c:\\anaconda_file\\lib\\site-packages (from pyppeteer>=0.0.14->requests-html<0.11.0,>=0.10.0->facebook-scraper) (2.0.0)\n",
      "Collecting websockets<11.0,>=10.0\n",
      "  Downloading websockets-10.2-cp38-cp38-win_amd64.whl (97 kB)\n",
      "     ---------------------------------------- 97.8/97.8 KB ? eta 0:00:00\n",
      "Requirement already satisfied: beautifulsoup4 in c:\\anaconda_file\\lib\\site-packages (from bs4->requests-html<0.11.0,>=0.10.0->facebook-scraper) (4.9.3)\n",
      "Requirement already satisfied: lxml>=2.1 in c:\\anaconda_file\\lib\\site-packages (from pyquery->requests-html<0.11.0,>=0.10.0->facebook-scraper) (4.6.1)\n",
      "Requirement already satisfied: cssselect>0.7.9 in c:\\anaconda_file\\lib\\site-packages (from pyquery->requests-html<0.11.0,>=0.10.0->facebook-scraper) (1.1.0)\n",
      "Requirement already satisfied: six>=1.5 in c:\\anaconda_file\\lib\\site-packages (from python-dateutil->dateparser<2.0.0,>=1.0.0->facebook-scraper) (1.15.0)\n",
      "Requirement already satisfied: charset-normalizer~=2.0.0 in c:\\anaconda_file\\lib\\site-packages (from requests->requests-html<0.11.0,>=0.10.0->facebook-scraper) (2.0.6)\n",
      "Requirement already satisfied: idna<4,>=2.5 in c:\\anaconda_file\\lib\\site-packages (from requests->requests-html<0.11.0,>=0.10.0->facebook-scraper) (2.6)\n",
      "Collecting tzdata\n",
      "  Downloading tzdata-2022.1-py2.py3-none-any.whl (339 kB)\n",
      "     ------------------------------------- 339.5/339.5 KB 20.6 MB/s eta 0:00:00\n",
      "Collecting backports.zoneinfo\n",
      "  Downloading backports.zoneinfo-0.2.1-cp38-cp38-win_amd64.whl (38 kB)\n",
      "Collecting pytz-deprecation-shim\n",
      "  Downloading pytz_deprecation_shim-0.1.0.post0-py2.py3-none-any.whl (15 kB)\n",
      "Requirement already satisfied: zipp>=0.5 in c:\\anaconda_file\\lib\\site-packages (from importlib-metadata>=1.4->pyppeteer>=0.0.14->requests-html<0.11.0,>=0.10.0->facebook-scraper) (3.4.0)\n",
      "Requirement already satisfied: colorama in c:\\anaconda_file\\lib\\site-packages (from tqdm<5.0.0,>=4.42.1->pyppeteer>=0.0.14->requests-html<0.11.0,>=0.10.0->facebook-scraper) (0.4.4)\n",
      "Requirement already satisfied: soupsieve>1.2 in c:\\anaconda_file\\lib\\site-packages (from beautifulsoup4->bs4->requests-html<0.11.0,>=0.10.0->facebook-scraper) (2.0.1)\n",
      "Building wheels for collected packages: demjson3, bs4, fake-useragent, parse\n",
      "  Building wheel for demjson3 (setup.py): started\n",
      "  Building wheel for demjson3 (setup.py): finished with status 'done'\n",
      "  Created wheel for demjson3: filename=demjson3-3.0.5-py3-none-any.whl size=76068 sha256=7013bf6d97874b587ede4dbcaebedc5c307dfcf9b84d30f44f5edcf76ffa058b\n",
      "  Stored in directory: c:\\users\\jun long\\appdata\\local\\pip\\cache\\wheels\\b9\\7f\\83\\c60451302e62feb81c84a1455e9a42ccf348e6434ce173047b\n",
      "  Building wheel for bs4 (setup.py): started\n",
      "  Building wheel for bs4 (setup.py): finished with status 'done'\n",
      "  Created wheel for bs4: filename=bs4-0.0.1-py3-none-any.whl size=1277 sha256=1347a8bc3ebe66bc07addf405767160d0fc586df66dc174b45a7f56f5fb080af\n",
      "  Stored in directory: c:\\users\\jun long\\appdata\\local\\pip\\cache\\wheels\\75\\78\\21\\68b124549c9bdc94f822c02fb9aa3578a669843f9767776bca\n",
      "  Building wheel for fake-useragent (setup.py): started\n",
      "  Building wheel for fake-useragent (setup.py): finished with status 'done'\n",
      "  Created wheel for fake-useragent: filename=fake_useragent-0.1.11-py3-none-any.whl size=13489 sha256=f896d97ce0cebfb52821497b9a0b9c51adfa69861b510fc8344b91e1f1ee4510\n",
      "  Stored in directory: c:\\users\\jun long\\appdata\\local\\pip\\cache\\wheels\\a0\\b8\\b7\\8c942b2c5be5158b874a88195116b05ad124bac795f6665e65\n",
      "  Building wheel for parse (setup.py): started\n",
      "  Building wheel for parse (setup.py): finished with status 'done'\n",
      "  Created wheel for parse: filename=parse-1.19.0-py3-none-any.whl size=24584 sha256=511d4e323e9f602cc63fafc5c5118175ec9c9059a49d8ed33d986453b1eba51c\n",
      "  Stored in directory: c:\\users\\jun long\\appdata\\local\\pip\\cache\\wheels\\e5\\33\\1f\\68392720485b3ecf125a69e700baaab7624616deedea2fa6e2\n",
      "Successfully built demjson3 bs4 fake-useragent parse\n",
      "Installing collected packages: pyee, parse, fake-useragent, demjson3, certifi, appdirs, websockets, urllib3, tzdata, pyquery, backports.zoneinfo, pytz-deprecation-shim, pyppeteer, bs4, tzlocal, requests-html, dateparser, facebook-scraper\n",
      "  Attempting uninstall: certifi\n",
      "    Found existing installation: certifi 2020.6.20\n",
      "    Uninstalling certifi-2020.6.20:\n",
      "      Successfully uninstalled certifi-2020.6.20\n",
      "  Attempting uninstall: urllib3\n",
      "    Found existing installation: urllib3 1.22\n",
      "    Uninstalling urllib3-1.22:\n",
      "      Successfully uninstalled urllib3-1.22\n",
      "Successfully installed appdirs-1.4.4 backports.zoneinfo-0.2.1 bs4-0.0.1 certifi-2021.10.8 dateparser-1.1.1 demjson3-3.0.5 facebook-scraper-0.2.54 fake-useragent-0.1.11 parse-1.19.0 pyee-8.2.2 pyppeteer-1.0.2 pyquery-1.4.3 pytz-deprecation-shim-0.1.0.post0 requests-html-0.10.0 tzdata-2022.1 tzlocal-4.1 urllib3-1.26.9 websockets-10.2\n"
     ]
    }
   ],
   "source": [
    "# pip install facebook-scraper"
   ]
  },
  {
   "cell_type": "code",
   "execution_count": 2,
   "metadata": {},
   "outputs": [],
   "source": [
    "from facebook_scraper import get_posts"
   ]
  },
  {
   "cell_type": "code",
   "execution_count": 3,
   "metadata": {},
   "outputs": [
    {
     "name": "stderr",
     "output_type": "stream",
     "text": [
      "C:\\Anaconda_File\\lib\\site-packages\\IPython\\core\\interactiveshell.py:3418: UserWarning: A low page limit (<=2) might return no results, try increasing the limit\n",
      "  exec(code_obj, self.user_global_ns, self.user_ns)\n",
      "C:\\Anaconda_File\\lib\\site-packages\\facebook_scraper\\facebook_scraper.py:817: UserWarning: Facebook says 'Unsupported Browser'\n",
      "  warnings.warn(f\"Facebook says 'Unsupported Browser'\")\n"
     ]
    },
    {
     "name": "stdout",
     "output_type": "stream",
     "text": [
      "Enter the My Nintendo Spring Break With Kirby Swee\n",
      "Available now as My Nintendo physical rewards! Sho\n"
     ]
    }
   ],
   "source": [
    "for post in get_posts('nintendo', pages=1):\n",
    "    print(post['text'][:50])"
   ]
  },
  {
   "cell_type": "code",
   "execution_count": 5,
   "metadata": {},
   "outputs": [
    {
     "ename": "LoginRequired",
     "evalue": "A login (cookies) is required to see this page",
     "output_type": "error",
     "traceback": [
      "\u001b[1;31m---------------------------------------------------------------------------\u001b[0m",
      "\u001b[1;31mLoginRequired\u001b[0m                             Traceback (most recent call last)",
      "\u001b[1;32m<ipython-input-5-9cfdb56dd136>\u001b[0m in \u001b[0;36m<module>\u001b[1;34m\u001b[0m\n\u001b[0;32m      1\u001b[0m \u001b[1;32mfrom\u001b[0m \u001b[0mfacebook_scraper\u001b[0m \u001b[1;32mimport\u001b[0m \u001b[0mget_profile\u001b[0m\u001b[1;33m\u001b[0m\u001b[1;33m\u001b[0m\u001b[0m\n\u001b[1;32m----> 2\u001b[1;33m \u001b[0mget_profile\u001b[0m\u001b[1;33m(\u001b[0m\u001b[1;34m\"toh.junlong.1\"\u001b[0m\u001b[1;33m)\u001b[0m \u001b[1;31m# Or get_profile(\"zuck\", cookies=\"cookies.txt\")\u001b[0m\u001b[1;33m\u001b[0m\u001b[1;33m\u001b[0m\u001b[0m\n\u001b[0m",
      "\u001b[1;32mC:\\Anaconda_File\\lib\\site-packages\\facebook_scraper\\__init__.py\u001b[0m in \u001b[0;36mget_profile\u001b[1;34m(account, **kwargs)\u001b[0m\n\u001b[0;32m     82\u001b[0m     \u001b[0mcookies\u001b[0m \u001b[1;33m=\u001b[0m \u001b[0mkwargs\u001b[0m\u001b[1;33m.\u001b[0m\u001b[0mpop\u001b[0m\u001b[1;33m(\u001b[0m\u001b[1;34m'cookies'\u001b[0m\u001b[1;33m,\u001b[0m \u001b[1;32mNone\u001b[0m\u001b[1;33m)\u001b[0m\u001b[1;33m\u001b[0m\u001b[1;33m\u001b[0m\u001b[0m\n\u001b[0;32m     83\u001b[0m     \u001b[0mset_cookies\u001b[0m\u001b[1;33m(\u001b[0m\u001b[0mcookies\u001b[0m\u001b[1;33m)\u001b[0m\u001b[1;33m\u001b[0m\u001b[1;33m\u001b[0m\u001b[0m\n\u001b[1;32m---> 84\u001b[1;33m     \u001b[1;32mreturn\u001b[0m \u001b[0m_scraper\u001b[0m\u001b[1;33m.\u001b[0m\u001b[0mget_profile\u001b[0m\u001b[1;33m(\u001b[0m\u001b[0maccount\u001b[0m\u001b[1;33m,\u001b[0m \u001b[1;33m**\u001b[0m\u001b[0mkwargs\u001b[0m\u001b[1;33m)\u001b[0m\u001b[1;33m\u001b[0m\u001b[1;33m\u001b[0m\u001b[0m\n\u001b[0m\u001b[0;32m     85\u001b[0m \u001b[1;33m\u001b[0m\u001b[0m\n\u001b[0;32m     86\u001b[0m \u001b[1;33m\u001b[0m\u001b[0m\n",
      "\u001b[1;32mC:\\Anaconda_File\\lib\\site-packages\\facebook_scraper\\facebook_scraper.py\u001b[0m in \u001b[0;36mget_profile\u001b[1;34m(self, account, **kwargs)\u001b[0m\n\u001b[0;32m    291\u001b[0m         \u001b[1;32mif\u001b[0m \u001b[0mkwargs\u001b[0m\u001b[1;33m.\u001b[0m\u001b[0mget\u001b[0m\u001b[1;33m(\u001b[0m\u001b[1;34m\"allow_extra_requests\"\u001b[0m\u001b[1;33m,\u001b[0m \u001b[1;32mTrue\u001b[0m\u001b[1;33m)\u001b[0m\u001b[1;33m:\u001b[0m\u001b[1;33m\u001b[0m\u001b[1;33m\u001b[0m\u001b[0m\n\u001b[0;32m    292\u001b[0m             \u001b[0mlogger\u001b[0m\u001b[1;33m.\u001b[0m\u001b[0mdebug\u001b[0m\u001b[1;33m(\u001b[0m\u001b[1;34mf\"Requesting page from: {account}\"\u001b[0m\u001b[1;33m)\u001b[0m\u001b[1;33m\u001b[0m\u001b[1;33m\u001b[0m\u001b[0m\n\u001b[1;32m--> 293\u001b[1;33m             \u001b[0mresponse\u001b[0m \u001b[1;33m=\u001b[0m \u001b[0mself\u001b[0m\u001b[1;33m.\u001b[0m\u001b[0mget\u001b[0m\u001b[1;33m(\u001b[0m\u001b[0maccount\u001b[0m\u001b[1;33m)\u001b[0m\u001b[1;33m\u001b[0m\u001b[1;33m\u001b[0m\u001b[0m\n\u001b[0m\u001b[0;32m    294\u001b[0m \u001b[1;33m\u001b[0m\u001b[0m\n\u001b[0;32m    295\u001b[0m             \u001b[1;32mtry\u001b[0m\u001b[1;33m:\u001b[0m\u001b[1;33m\u001b[0m\u001b[1;33m\u001b[0m\u001b[0m\n",
      "\u001b[1;32mC:\\Anaconda_File\\lib\\site-packages\\facebook_scraper\\facebook_scraper.py\u001b[0m in \u001b[0;36mget\u001b[1;34m(self, url, **kwargs)\u001b[0m\n\u001b[0;32m    848\u001b[0m                     )\n\u001b[0;32m    849\u001b[0m                 ):\n\u001b[1;32m--> 850\u001b[1;33m                     raise exceptions.LoginRequired(\n\u001b[0m\u001b[0;32m    851\u001b[0m                         \u001b[1;34m\"A login (cookies) is required to see this page\"\u001b[0m\u001b[1;33m\u001b[0m\u001b[1;33m\u001b[0m\u001b[0m\n\u001b[0;32m    852\u001b[0m                     )\n",
      "\u001b[1;31mLoginRequired\u001b[0m: A login (cookies) is required to see this page"
     ]
    }
   ],
   "source": [
    "from facebook_scraper import get_profile\n",
    "get_profile(\"toh.junlong.1\") # Or get_profile(\"zuck\", cookies=\"cookies.txt\")"
   ]
  },
  {
   "cell_type": "code",
   "execution_count": null,
   "metadata": {},
   "outputs": [],
   "source": []
  },
  {
   "cell_type": "code",
   "execution_count": null,
   "metadata": {},
   "outputs": [],
   "source": []
  },
  {
   "cell_type": "code",
   "execution_count": null,
   "metadata": {},
   "outputs": [],
   "source": []
  },
  {
   "cell_type": "code",
   "execution_count": null,
   "metadata": {},
   "outputs": [],
   "source": []
  },
  {
   "cell_type": "code",
   "execution_count": null,
   "metadata": {},
   "outputs": [],
   "source": []
  },
  {
   "cell_type": "code",
   "execution_count": null,
   "metadata": {},
   "outputs": [],
   "source": []
  }
 ],
 "metadata": {
  "kernelspec": {
   "display_name": "Python 3",
   "language": "python",
   "name": "python3"
  },
  "language_info": {
   "codemirror_mode": {
    "name": "ipython",
    "version": 3
   },
   "file_extension": ".py",
   "mimetype": "text/x-python",
   "name": "python",
   "nbconvert_exporter": "python",
   "pygments_lexer": "ipython3",
   "version": "3.8.5"
  }
 },
 "nbformat": 4,
 "nbformat_minor": 4
}
